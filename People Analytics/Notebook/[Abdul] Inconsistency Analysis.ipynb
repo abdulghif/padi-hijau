{
 "cells": [
  {
   "cell_type": "code",
   "execution_count": 3,
   "metadata": {},
   "outputs": [],
   "source": [
    "import pandas as pd\n",
    "import numpy as np"
   ]
  },
  {
   "cell_type": "code",
   "execution_count": 112,
   "metadata": {},
   "outputs": [],
   "source": [
    "train = pd.read_csv('../Data/train.csv')\n",
    "test = pd.read_csv('../Data/test.csv')"
   ]
  },
  {
   "cell_type": "code",
   "execution_count": 113,
   "metadata": {},
   "outputs": [],
   "source": [
    "df = pd.concat([train,test]).reset_index(drop=True)"
   ]
  },
  {
   "cell_type": "code",
   "execution_count": 115,
   "metadata": {},
   "outputs": [
    {
     "data": {
      "text/plain": [
       "(6000, 29)"
      ]
     },
     "execution_count": 115,
     "metadata": {},
     "output_type": "execute_result"
    }
   ],
   "source": [
    "test.shape"
   ]
  },
  {
   "cell_type": "code",
   "execution_count": 116,
   "metadata": {},
   "outputs": [
    {
     "data": {
      "text/plain": [
       "(28005, 30)"
      ]
     },
     "execution_count": 116,
     "metadata": {},
     "output_type": "execute_result"
    }
   ],
   "source": [
    "df.shape"
   ]
  },
  {
   "cell_type": "code",
   "execution_count": 117,
   "metadata": {},
   "outputs": [
    {
     "name": "stdout",
     "output_type": "stream",
     "text": [
      "<class 'pandas.core.frame.DataFrame'>\n",
      "RangeIndex: 28005 entries, 0 to 28004\n",
      "Data columns (total 30 columns):\n",
      " #   Column                                 Non-Null Count  Dtype  \n",
      "---  ------                                 --------------  -----  \n",
      " 0   job_level                              28005 non-null  object \n",
      " 1   job_duration_in_current_job_level      28005 non-null  float64\n",
      " 2   person_level                           28005 non-null  object \n",
      " 3   job_duration_in_current_person_level   28005 non-null  float64\n",
      " 4   job_duration_in_current_branch         28005 non-null  float64\n",
      " 5   Employee_type                          27993 non-null  object \n",
      " 6   Employee_status                        28005 non-null  object \n",
      " 7   gender                                 28005 non-null  object \n",
      " 8   age                                    28005 non-null  int64  \n",
      " 9   marital_status_maried(Y/N)             28005 non-null  object \n",
      " 10  number_of_dependences                  28005 non-null  int64  \n",
      " 11  number_of_dependences (male)           28005 non-null  int64  \n",
      " 12  number_of_dependences (female)         28005 non-null  int64  \n",
      " 13  Education_level                        24397 non-null  object \n",
      " 14  GPA                                    24502 non-null  float64\n",
      " 15  year_graduated                         24502 non-null  object \n",
      " 16  job_duration_as_permanent_worker       25950 non-null  float64\n",
      " 17  job_duration_from_training             28005 non-null  int64  \n",
      " 18  branch_rotation                        28005 non-null  int64  \n",
      " 19  job_rotation                           28005 non-null  int64  \n",
      " 20  assign_of_otherposition                28005 non-null  int64  \n",
      " 21  annual leave                           28005 non-null  int64  \n",
      " 22  sick_leaves                            28005 non-null  int64  \n",
      " 23  Best Performance                       22005 non-null  float64\n",
      " 24  Avg_achievement_%                      21716 non-null  float64\n",
      " 25  Last_achievement_%                     21703 non-null  float64\n",
      " 26  Achievement_above_100%_during3quartal  21703 non-null  float64\n",
      " 27  achievement_target_1                   21278 non-null  object \n",
      " 28  achievement_target_2                   21278 non-null  object \n",
      " 29  achievement_target_3                   21278 non-null  object \n",
      "dtypes: float64(9), int64(10), object(11)\n",
      "memory usage: 6.4+ MB\n"
     ]
    }
   ],
   "source": [
    "df.info()"
   ]
  },
  {
   "cell_type": "code",
   "execution_count": 118,
   "metadata": {},
   "outputs": [
    {
     "data": {
      "text/html": [
       "<div>\n",
       "<style scoped>\n",
       "    .dataframe tbody tr th:only-of-type {\n",
       "        vertical-align: middle;\n",
       "    }\n",
       "\n",
       "    .dataframe tbody tr th {\n",
       "        vertical-align: top;\n",
       "    }\n",
       "\n",
       "    .dataframe thead th {\n",
       "        text-align: right;\n",
       "    }\n",
       "</style>\n",
       "<table border=\"1\" class=\"dataframe\">\n",
       "  <thead>\n",
       "    <tr style=\"text-align: right;\">\n",
       "      <th></th>\n",
       "      <th>job_level</th>\n",
       "      <th>job_duration_in_current_job_level</th>\n",
       "      <th>person_level</th>\n",
       "      <th>job_duration_in_current_person_level</th>\n",
       "      <th>job_duration_in_current_branch</th>\n",
       "      <th>Employee_type</th>\n",
       "      <th>Employee_status</th>\n",
       "      <th>gender</th>\n",
       "      <th>age</th>\n",
       "      <th>marital_status_maried(Y/N)</th>\n",
       "      <th>...</th>\n",
       "      <th>assign_of_otherposition</th>\n",
       "      <th>annual leave</th>\n",
       "      <th>sick_leaves</th>\n",
       "      <th>Best Performance</th>\n",
       "      <th>Avg_achievement_%</th>\n",
       "      <th>Last_achievement_%</th>\n",
       "      <th>Achievement_above_100%_during3quartal</th>\n",
       "      <th>achievement_target_1</th>\n",
       "      <th>achievement_target_2</th>\n",
       "      <th>achievement_target_3</th>\n",
       "    </tr>\n",
       "  </thead>\n",
       "  <tbody>\n",
       "    <tr>\n",
       "      <th>0</th>\n",
       "      <td>JG05</td>\n",
       "      <td>8.00</td>\n",
       "      <td>PG06</td>\n",
       "      <td>8.00</td>\n",
       "      <td>0.50</td>\n",
       "      <td>RM_type_A</td>\n",
       "      <td>Permanent</td>\n",
       "      <td>Female</td>\n",
       "      <td>1964</td>\n",
       "      <td>Y</td>\n",
       "      <td>...</td>\n",
       "      <td>0</td>\n",
       "      <td>8</td>\n",
       "      <td>0</td>\n",
       "      <td>0.0</td>\n",
       "      <td>68.85</td>\n",
       "      <td>72.53</td>\n",
       "      <td>0.0</td>\n",
       "      <td>achiev_50%-100%</td>\n",
       "      <td>achiev_&lt; 50%</td>\n",
       "      <td>reached</td>\n",
       "    </tr>\n",
       "    <tr>\n",
       "      <th>1</th>\n",
       "      <td>JG04</td>\n",
       "      <td>5.17</td>\n",
       "      <td>PG04</td>\n",
       "      <td>2.00</td>\n",
       "      <td>1.25</td>\n",
       "      <td>RM_type_A</td>\n",
       "      <td>Permanent</td>\n",
       "      <td>Male</td>\n",
       "      <td>1979</td>\n",
       "      <td>Y</td>\n",
       "      <td>...</td>\n",
       "      <td>9</td>\n",
       "      <td>3</td>\n",
       "      <td>0</td>\n",
       "      <td>0.0</td>\n",
       "      <td>94.81</td>\n",
       "      <td>101.13</td>\n",
       "      <td>3.0</td>\n",
       "      <td>achiev_50%-100%</td>\n",
       "      <td>achiev_50%-100%</td>\n",
       "      <td>reached</td>\n",
       "    </tr>\n",
       "    <tr>\n",
       "      <th>2</th>\n",
       "      <td>JG04</td>\n",
       "      <td>1.83</td>\n",
       "      <td>PG03</td>\n",
       "      <td>1.83</td>\n",
       "      <td>1.50</td>\n",
       "      <td>RM_type_A</td>\n",
       "      <td>Permanent</td>\n",
       "      <td>Male</td>\n",
       "      <td>1980</td>\n",
       "      <td>Y</td>\n",
       "      <td>...</td>\n",
       "      <td>0</td>\n",
       "      <td>6</td>\n",
       "      <td>0</td>\n",
       "      <td>0.0</td>\n",
       "      <td>72.82</td>\n",
       "      <td>71.30</td>\n",
       "      <td>0.0</td>\n",
       "      <td>achiev_100%-150%</td>\n",
       "      <td>achiev_&lt; 50%</td>\n",
       "      <td>not_reached</td>\n",
       "    </tr>\n",
       "    <tr>\n",
       "      <th>3</th>\n",
       "      <td>JG04</td>\n",
       "      <td>7.92</td>\n",
       "      <td>PG04</td>\n",
       "      <td>4.00</td>\n",
       "      <td>0.17</td>\n",
       "      <td>RM_type_A</td>\n",
       "      <td>Permanent</td>\n",
       "      <td>Male</td>\n",
       "      <td>1984</td>\n",
       "      <td>Y</td>\n",
       "      <td>...</td>\n",
       "      <td>0</td>\n",
       "      <td>3</td>\n",
       "      <td>0</td>\n",
       "      <td>0.0</td>\n",
       "      <td>86.89</td>\n",
       "      <td>90.09</td>\n",
       "      <td>2.0</td>\n",
       "      <td>achiev_50%-100%</td>\n",
       "      <td>achiev_50%-100%</td>\n",
       "      <td>not_reached</td>\n",
       "    </tr>\n",
       "    <tr>\n",
       "      <th>4</th>\n",
       "      <td>JG04</td>\n",
       "      <td>1.83</td>\n",
       "      <td>PG03</td>\n",
       "      <td>1.83</td>\n",
       "      <td>2.08</td>\n",
       "      <td>RM_type_A</td>\n",
       "      <td>Permanent</td>\n",
       "      <td>Male</td>\n",
       "      <td>1984</td>\n",
       "      <td>Y</td>\n",
       "      <td>...</td>\n",
       "      <td>11</td>\n",
       "      <td>2</td>\n",
       "      <td>1</td>\n",
       "      <td>1.0</td>\n",
       "      <td>95.17</td>\n",
       "      <td>100.72</td>\n",
       "      <td>2.0</td>\n",
       "      <td>achiev_&lt; 50%</td>\n",
       "      <td>achiev_&gt; 1.5</td>\n",
       "      <td>not_reached</td>\n",
       "    </tr>\n",
       "  </tbody>\n",
       "</table>\n",
       "<p>5 rows × 30 columns</p>\n",
       "</div>"
      ],
      "text/plain": [
       "  job_level  job_duration_in_current_job_level person_level  \\\n",
       "0      JG05                               8.00         PG06   \n",
       "1      JG04                               5.17         PG04   \n",
       "2      JG04                               1.83         PG03   \n",
       "3      JG04                               7.92         PG04   \n",
       "4      JG04                               1.83         PG03   \n",
       "\n",
       "   job_duration_in_current_person_level  job_duration_in_current_branch  \\\n",
       "0                                  8.00                            0.50   \n",
       "1                                  2.00                            1.25   \n",
       "2                                  1.83                            1.50   \n",
       "3                                  4.00                            0.17   \n",
       "4                                  1.83                            2.08   \n",
       "\n",
       "  Employee_type Employee_status  gender   age marital_status_maried(Y/N)  ...  \\\n",
       "0     RM_type_A       Permanent  Female  1964                          Y  ...   \n",
       "1     RM_type_A       Permanent    Male  1979                          Y  ...   \n",
       "2     RM_type_A       Permanent    Male  1980                          Y  ...   \n",
       "3     RM_type_A       Permanent    Male  1984                          Y  ...   \n",
       "4     RM_type_A       Permanent    Male  1984                          Y  ...   \n",
       "\n",
       "   assign_of_otherposition  annual leave  sick_leaves Best Performance  \\\n",
       "0                        0             8            0              0.0   \n",
       "1                        9             3            0              0.0   \n",
       "2                        0             6            0              0.0   \n",
       "3                        0             3            0              0.0   \n",
       "4                       11             2            1              1.0   \n",
       "\n",
       "   Avg_achievement_% Last_achievement_%  \\\n",
       "0              68.85              72.53   \n",
       "1              94.81             101.13   \n",
       "2              72.82              71.30   \n",
       "3              86.89              90.09   \n",
       "4              95.17             100.72   \n",
       "\n",
       "   Achievement_above_100%_during3quartal  achievement_target_1  \\\n",
       "0                                    0.0       achiev_50%-100%   \n",
       "1                                    3.0       achiev_50%-100%   \n",
       "2                                    0.0      achiev_100%-150%   \n",
       "3                                    2.0       achiev_50%-100%   \n",
       "4                                    2.0          achiev_< 50%   \n",
       "\n",
       "   achievement_target_2  achievement_target_3  \n",
       "0          achiev_< 50%               reached  \n",
       "1       achiev_50%-100%               reached  \n",
       "2          achiev_< 50%           not_reached  \n",
       "3       achiev_50%-100%           not_reached  \n",
       "4          achiev_> 1.5           not_reached  \n",
       "\n",
       "[5 rows x 30 columns]"
      ]
     },
     "execution_count": 118,
     "metadata": {},
     "output_type": "execute_result"
    }
   ],
   "source": [
    "df.head()"
   ]
  },
  {
   "cell_type": "markdown",
   "metadata": {},
   "source": [
    "# Achievement Target 1"
   ]
  },
  {
   "cell_type": "code",
   "execution_count": 119,
   "metadata": {},
   "outputs": [
    {
     "data": {
      "text/plain": [
       "achiev_50%-100%           10585\n",
       "achiev_100%-150%           3475\n",
       "achiev_< 50%               2938\n",
       "Pencapaian 50%-100%        2182\n",
       "achiev_> 1.5                836\n",
       "Pencapaian 100%-150%        701\n",
       "Pencapaian < 50%            247\n",
       "Tidak diberikan target      238\n",
       "Pencapaian > 1.5             76\n",
       "Name: achievement_target_1, dtype: int64"
      ]
     },
     "execution_count": 119,
     "metadata": {},
     "output_type": "execute_result"
    }
   ],
   "source": [
    "df['achievement_target_1'].value_counts()"
   ]
  },
  {
   "cell_type": "code",
   "execution_count": 120,
   "metadata": {},
   "outputs": [
    {
     "data": {
      "text/plain": [
       "achievement_target_1    Best Performance\n",
       "Pencapaian 100%-150%    0.0                 0.868041\n",
       "                        1.0                 0.131959\n",
       "Pencapaian 50%-100%     0.0                 0.866101\n",
       "                        1.0                 0.133899\n",
       "Pencapaian < 50%        0.0                 0.857143\n",
       "                        1.0                 0.142857\n",
       "Pencapaian > 1.5        0.0                 0.938776\n",
       "                        1.0                 0.061224\n",
       "Tidak diberikan target  0.0                 0.837079\n",
       "                        1.0                 0.162921\n",
       "achiev_100%-150%        0.0                 0.857086\n",
       "                        1.0                 0.142914\n",
       "achiev_50%-100%         0.0                 0.845943\n",
       "                        1.0                 0.154057\n",
       "achiev_< 50%            0.0                 0.847458\n",
       "                        1.0                 0.152542\n",
       "achiev_> 1.5            0.0                 0.845896\n",
       "                        1.0                 0.154104\n",
       "Name: Best Performance, dtype: float64"
      ]
     },
     "execution_count": 120,
     "metadata": {},
     "output_type": "execute_result"
    }
   ],
   "source": [
    "df.groupby(['achievement_target_1'])['Best Performance'].value_counts(normalize=True)"
   ]
  },
  {
   "cell_type": "code",
   "execution_count": 121,
   "metadata": {},
   "outputs": [
    {
     "data": {
      "text/plain": [
       "achiev_50%-100%           12767\n",
       "achiev_100%-150%           4176\n",
       "achiev_< 50%               3185\n",
       "achiev_> 1.5                912\n",
       "Tidak diberikan target      238\n",
       "Name: achievement_target_1, dtype: int64"
      ]
     },
     "execution_count": 121,
     "metadata": {},
     "output_type": "execute_result"
    }
   ],
   "source": [
    "df['achievement_target_1'].apply(achievement_target1).value_counts()"
   ]
  },
  {
   "cell_type": "code",
   "execution_count": 122,
   "metadata": {},
   "outputs": [
    {
     "data": {
      "text/plain": [
       "21278"
      ]
     },
     "execution_count": 122,
     "metadata": {},
     "output_type": "execute_result"
    }
   ],
   "source": [
    "df['achievement_target_1'].apply(achievement_target1).value_counts().sum()"
   ]
  },
  {
   "cell_type": "markdown",
   "metadata": {},
   "source": [
    "# Achievement Target 2"
   ]
  },
  {
   "cell_type": "code",
   "execution_count": 123,
   "metadata": {},
   "outputs": [
    {
     "data": {
      "text/plain": [
       "21278"
      ]
     },
     "execution_count": 123,
     "metadata": {},
     "output_type": "execute_result"
    }
   ],
   "source": [
    "df['achievement_target_2'].value_counts().sum()"
   ]
  },
  {
   "cell_type": "code",
   "execution_count": 124,
   "metadata": {},
   "outputs": [
    {
     "data": {
      "text/plain": [
       "achievement_target_2    Best Performance\n",
       "Pencapaian 100%-150%    0.0                 0.868966\n",
       "                        1.0                 0.131034\n",
       "Pencapaian 50%-100%     0.0                 0.886364\n",
       "                        1.0                 0.113636\n",
       "Pencapaian < 50%        0.0                 0.860571\n",
       "                        1.0                 0.139429\n",
       "Pencapaian > 1.5        0.0                 0.859155\n",
       "                        1.0                 0.140845\n",
       "Tidak diberikan target  0.0                 0.880682\n",
       "                        1.0                 0.119318\n",
       "achiev_100%-150%        0.0                 0.871351\n",
       "                        1.0                 0.128649\n",
       "achiev_50%-100%         0.0                 0.845731\n",
       "                        1.0                 0.154269\n",
       "achiev_< 50%            0.0                 0.846779\n",
       "                        1.0                 0.153221\n",
       "achiev_> 1.5            0.0                 0.840671\n",
       "                        1.0                 0.159329\n",
       "Name: Best Performance, dtype: float64"
      ]
     },
     "execution_count": 124,
     "metadata": {},
     "output_type": "execute_result"
    }
   ],
   "source": [
    "df.groupby(['achievement_target_2'])['Best Performance'].value_counts(normalize=True)"
   ]
  },
  {
   "cell_type": "code",
   "execution_count": 125,
   "metadata": {},
   "outputs": [],
   "source": [
    "def achievement_target2(x):\n",
    "    if x == 'Pencapaian 50%-100%':\n",
    "        return 'achiev_50%-100%'\n",
    "    elif x == 'Pencapaian 100%-150%':\n",
    "        return 'achiev_100%-150%'\n",
    "    elif x == 'Pencapaian < 50%':\n",
    "        return 'achiev_< 50%'\n",
    "    elif x == 'Pencapaian > 1.5':\n",
    "        return 'achiev_> 1.5'\n",
    "    else:\n",
    "        return x"
   ]
  },
  {
   "cell_type": "code",
   "execution_count": 126,
   "metadata": {},
   "outputs": [
    {
     "data": {
      "text/plain": [
       "achiev_< 50%              14204\n",
       "achiev_50%-100%            3912\n",
       "achiev_100%-150%           1501\n",
       "achiev_> 1.5               1426\n",
       "Tidak diberikan target      235\n",
       "Name: achievement_target_2, dtype: int64"
      ]
     },
     "execution_count": 126,
     "metadata": {},
     "output_type": "execute_result"
    }
   ],
   "source": [
    "df['achievement_target_2'].apply(achievement_target2).value_counts()"
   ]
  },
  {
   "cell_type": "code",
   "execution_count": 127,
   "metadata": {},
   "outputs": [
    {
     "data": {
      "text/plain": [
       "21278"
      ]
     },
     "execution_count": 127,
     "metadata": {},
     "output_type": "execute_result"
    }
   ],
   "source": [
    "df['achievement_target_2'].apply(achievement_target2).value_counts().sum()"
   ]
  },
  {
   "cell_type": "markdown",
   "metadata": {},
   "source": [
    "# Achievement Target 3"
   ]
  },
  {
   "cell_type": "code",
   "execution_count": 128,
   "metadata": {},
   "outputs": [],
   "source": [
    "def achievement_target3(x):\n",
    "    if x == 'not reached':\n",
    "        return 'not_reached'\n",
    "    else:\n",
    "        return x"
   ]
  },
  {
   "cell_type": "code",
   "execution_count": 129,
   "metadata": {},
   "outputs": [
    {
     "data": {
      "text/plain": [
       "reached        15327\n",
       "not reached     5929\n",
       "not_reached       22\n",
       "Name: achievement_target_3, dtype: int64"
      ]
     },
     "execution_count": 129,
     "metadata": {},
     "output_type": "execute_result"
    }
   ],
   "source": [
    "df['achievement_target_3'].value_counts()"
   ]
  },
  {
   "cell_type": "code",
   "execution_count": 130,
   "metadata": {},
   "outputs": [
    {
     "data": {
      "text/plain": [
       "21278"
      ]
     },
     "execution_count": 130,
     "metadata": {},
     "output_type": "execute_result"
    }
   ],
   "source": [
    "df['achievement_target_3'].value_counts().sum()"
   ]
  },
  {
   "cell_type": "code",
   "execution_count": 131,
   "metadata": {},
   "outputs": [
    {
     "data": {
      "text/plain": [
       "achievement_target_3  Best Performance\n",
       "not reached           0.0                 0.838129\n",
       "                      1.0                 0.161871\n",
       "not_reached           0.0                 0.722222\n",
       "                      1.0                 0.277778\n",
       "reached               0.0                 0.856259\n",
       "                      1.0                 0.143741\n",
       "Name: Best Performance, dtype: float64"
      ]
     },
     "execution_count": 131,
     "metadata": {},
     "output_type": "execute_result"
    }
   ],
   "source": [
    "df.groupby(['achievement_target_3'])['Best Performance'].value_counts(normalize=True)"
   ]
  },
  {
   "cell_type": "code",
   "execution_count": 132,
   "metadata": {},
   "outputs": [
    {
     "data": {
      "text/plain": [
       "reached        15327\n",
       "not_reached     5951\n",
       "Name: achievement_target_3, dtype: int64"
      ]
     },
     "execution_count": 132,
     "metadata": {},
     "output_type": "execute_result"
    }
   ],
   "source": [
    "df['achievement_target_3'].apply(achievement_target3).value_counts()"
   ]
  },
  {
   "cell_type": "markdown",
   "metadata": {},
   "source": [
    "# Year Graduated"
   ]
  },
  {
   "cell_type": "code",
   "execution_count": 133,
   "metadata": {},
   "outputs": [
    {
     "data": {
      "text/plain": [
       "2011    3183\n",
       "2013    3035\n",
       "2012    2932\n",
       "2010    2651\n",
       "2014    2332\n",
       "2009    2029\n",
       "2008    1699\n",
       "2007    1034\n",
       "2015    1022\n",
       "2006     642\n",
       "0        521\n",
       "2005     475\n",
       "2004     443\n",
       "2016     436\n",
       "2003     390\n",
       "2002     300\n",
       "2017     225\n",
       "2001     190\n",
       "\\N       118\n",
       "2000     104\n",
       "9999     104\n",
       "2018      77\n",
       "1999      67\n",
       "1996      65\n",
       "1998      50\n",
       "1995      45\n",
       "1994      41\n",
       "1993      31\n",
       "2999      24\n",
       "1987      23\n",
       "1992      23\n",
       "1988      22\n",
       "1997      22\n",
       "1986      20\n",
       "1989      19\n",
       "1991      18\n",
       "1985      16\n",
       "2019      15\n",
       "1990      15\n",
       "2201       9\n",
       "1984       6\n",
       "-          4\n",
       "1983       4\n",
       "2200       3\n",
       "____       2\n",
       "201        2\n",
       "3.05       1\n",
       "2020       1\n",
       "207        1\n",
       "1016       1\n",
       "1982       1\n",
       "2044       1\n",
       "209        1\n",
       "3.18       1\n",
       "102        1\n",
       ".          1\n",
       "9464       1\n",
       "2031       1\n",
       "3016       1\n",
       "3013       1\n",
       "Name: year_graduated, dtype: int64"
      ]
     },
     "execution_count": 133,
     "metadata": {},
     "output_type": "execute_result"
    }
   ],
   "source": [
    "df['year_graduated'].value_counts()"
   ]
  },
  {
   "cell_type": "code",
   "execution_count": 134,
   "metadata": {},
   "outputs": [
    {
     "data": {
      "text/plain": [
       "0        1987\n",
       "1        2001\n",
       "2        2007\n",
       "3        2006\n",
       "6        2008\n",
       "         ... \n",
       "27999    2011\n",
       "28001    2011\n",
       "28002    2009\n",
       "28003    2008\n",
       "28004    2011\n",
       "Name: year_graduated, Length: 23705, dtype: object"
      ]
     },
     "execution_count": 134,
     "metadata": {},
     "output_type": "execute_result"
    }
   ],
   "source": [
    "df[(df['year_graduated']>='1900')&(df['year_graduated']<='2020')]['year_graduated']"
   ]
  },
  {
   "cell_type": "code",
   "execution_count": 135,
   "metadata": {},
   "outputs": [
    {
     "data": {
      "text/plain": [
       "(28005, 30)"
      ]
     },
     "execution_count": 135,
     "metadata": {},
     "output_type": "execute_result"
    }
   ],
   "source": [
    "df.shape"
   ]
  },
  {
   "cell_type": "code",
   "execution_count": 136,
   "metadata": {},
   "outputs": [],
   "source": [
    "def year_graduated(x):\n",
    "    try:\n",
    "        x = int(x)\n",
    "        if not (x >= 1900 and x <= 2020):\n",
    "            return 'invalid'\n",
    "        else:\n",
    "            return x\n",
    "    except:\n",
    "        x = x\n",
    "        return x"
   ]
  },
  {
   "cell_type": "code",
   "execution_count": 137,
   "metadata": {},
   "outputs": [
    {
     "data": {
      "text/plain": [
       "0    1987\n",
       "1    2001\n",
       "2    2007\n",
       "3    2006\n",
       "4     NaN\n",
       "Name: year_graduated, dtype: object"
      ]
     },
     "execution_count": 137,
     "metadata": {},
     "output_type": "execute_result"
    }
   ],
   "source": [
    "df['year_graduated'].apply(year_graduated).head()"
   ]
  },
  {
   "cell_type": "markdown",
   "metadata": {},
   "source": [
    "## Lot of Missing Value"
   ]
  },
  {
   "cell_type": "code",
   "execution_count": 138,
   "metadata": {},
   "outputs": [
    {
     "data": {
      "text/plain": [
       "3503"
      ]
     },
     "execution_count": 138,
     "metadata": {},
     "output_type": "execute_result"
    }
   ],
   "source": [
    "df['year_graduated'].isnull().sum()"
   ]
  },
  {
   "cell_type": "code",
   "execution_count": 139,
   "metadata": {},
   "outputs": [
    {
     "data": {
      "text/plain": [
       "year_graduated  Best Performance\n",
       "-               0.0                 0.750000\n",
       "                1.0                 0.250000\n",
       "0               0.0                 0.888636\n",
       "                1.0                 0.111364\n",
       "102             0.0                 1.000000\n",
       "                                      ...   \n",
       "9999            0.0                 0.772727\n",
       "                1.0                 0.227273\n",
       "\\N              0.0                 0.770115\n",
       "                1.0                 0.229885\n",
       "____            0.0                 1.000000\n",
       "Name: Best Performance, Length: 92, dtype: float64"
      ]
     },
     "execution_count": 139,
     "metadata": {},
     "output_type": "execute_result"
    }
   ],
   "source": [
    "df.groupby(['year_graduated'])['Best Performance'].value_counts(normalize=True)"
   ]
  },
  {
   "cell_type": "markdown",
   "metadata": {},
   "source": [
    "# GPA"
   ]
  },
  {
   "cell_type": "code",
   "execution_count": 140,
   "metadata": {},
   "outputs": [
    {
     "data": {
      "text/plain": [
       "Index(['job_level', 'job_duration_in_current_job_level', 'person_level',\n",
       "       'job_duration_in_current_person_level',\n",
       "       'job_duration_in_current_branch', 'Employee_type', 'Employee_status',\n",
       "       'gender', 'age', 'marital_status_maried(Y/N)', 'number_of_dependences',\n",
       "       'number_of_dependences (male)', 'number_of_dependences (female)',\n",
       "       'Education_level', 'GPA', 'year_graduated',\n",
       "       'job_duration_as_permanent_worker', 'job_duration_from_training',\n",
       "       'branch_rotation', 'job_rotation', 'assign_of_otherposition',\n",
       "       'annual leave', 'sick_leaves', 'Best Performance', 'Avg_achievement_%',\n",
       "       'Last_achievement_%', 'Achievement_above_100%_during3quartal',\n",
       "       'achievement_target_1', 'achievement_target_2', 'achievement_target_3'],\n",
       "      dtype='object')"
      ]
     },
     "execution_count": 140,
     "metadata": {},
     "output_type": "execute_result"
    }
   ],
   "source": [
    "df.columns"
   ]
  },
  {
   "cell_type": "code",
   "execution_count": 141,
   "metadata": {},
   "outputs": [
    {
     "data": {
      "text/plain": [
       "0.00      5099\n",
       "3.00       724\n",
       "3.01       477\n",
       "3.14       398\n",
       "3.10       392\n",
       "          ... \n",
       "318.00       1\n",
       "270.00       1\n",
       "2.33         1\n",
       "2.10         1\n",
       "47.60        1\n",
       "Name: GPA, Length: 273, dtype: int64"
      ]
     },
     "execution_count": 141,
     "metadata": {},
     "output_type": "execute_result"
    }
   ],
   "source": [
    "df['GPA'].value_counts()"
   ]
  },
  {
   "cell_type": "code",
   "execution_count": 142,
   "metadata": {},
   "outputs": [
    {
     "data": {
      "text/plain": [
       "0        2.32\n",
       "1        3.25\n",
       "2        3.23\n",
       "3        0.00\n",
       "6        3.65\n",
       "         ... \n",
       "28000    0.00\n",
       "28001    3.40\n",
       "28002    3.47\n",
       "28003    3.22\n",
       "28004    2.75\n",
       "Name: GPA, Length: 24409, dtype: float64"
      ]
     },
     "execution_count": 142,
     "metadata": {},
     "output_type": "execute_result"
    }
   ],
   "source": [
    "df[(df['GPA']>=0) & (df['GPA']<=4)]['GPA']"
   ]
  },
  {
   "cell_type": "code",
   "execution_count": 143,
   "metadata": {},
   "outputs": [
    {
     "data": {
      "text/plain": [
       "0        2.32\n",
       "1        3.25\n",
       "2        3.23\n",
       "3        0.00\n",
       "6        3.65\n",
       "         ... \n",
       "28000    0.00\n",
       "28001    3.40\n",
       "28002    3.47\n",
       "28003    3.22\n",
       "28004    2.75\n",
       "Name: GPA, Length: 24409, dtype: float64"
      ]
     },
     "execution_count": 143,
     "metadata": {},
     "output_type": "execute_result"
    }
   ],
   "source": [
    "df[(df['GPA']>=0) & (df['GPA']<=4)]['GPA']"
   ]
  },
  {
   "cell_type": "code",
   "execution_count": 153,
   "metadata": {},
   "outputs": [],
   "source": [
    "def gpa(x):\n",
    "    if not (x>=0 and x <= 4):\n",
    "        return 'invalid'\n",
    "    else:\n",
    "        return 'valid'"
   ]
  },
  {
   "cell_type": "code",
   "execution_count": 154,
   "metadata": {},
   "outputs": [
    {
     "data": {
      "text/plain": [
       "0        2.32\n",
       "1        3.25\n",
       "2        3.23\n",
       "3        0.00\n",
       "4         NaN\n",
       "         ... \n",
       "28000    0.00\n",
       "28001    3.40\n",
       "28002    3.47\n",
       "28003    3.22\n",
       "28004    2.75\n",
       "Name: GPA, Length: 28005, dtype: float64"
      ]
     },
     "execution_count": 154,
     "metadata": {},
     "output_type": "execute_result"
    }
   ],
   "source": [
    "df['GPA']"
   ]
  },
  {
   "cell_type": "code",
   "execution_count": 156,
   "metadata": {},
   "outputs": [
    {
     "data": {
      "text/plain": [
       "valid      24409\n",
       "invalid     3596\n",
       "Name: GPA, dtype: int64"
      ]
     },
     "execution_count": 156,
     "metadata": {},
     "output_type": "execute_result"
    }
   ],
   "source": [
    "df['GPA'].apply(gpa).value_counts()"
   ]
  },
  {
   "cell_type": "code",
   "execution_count": 147,
   "metadata": {},
   "outputs": [
    {
     "data": {
      "text/plain": [
       "0.0        5099\n",
       "invalid    3596\n",
       "3.0         724\n",
       "3.01        477\n",
       "3.14        398\n",
       "           ... \n",
       "2.52          1\n",
       "2.06          1\n",
       "2.38          1\n",
       "2.35          1\n",
       "3.97          1\n",
       "Name: GPA, Length: 185, dtype: int64"
      ]
     },
     "execution_count": 147,
     "metadata": {},
     "output_type": "execute_result"
    }
   ],
   "source": [
    "df['GPA'].apply(gpa).value_counts()"
   ]
  },
  {
   "cell_type": "code",
   "execution_count": 148,
   "metadata": {},
   "outputs": [
    {
     "data": {
      "text/plain": [
       "Education_level\n",
       "level_0     0.343000\n",
       "level_1     5.282310\n",
       "level_2     1.787778\n",
       "level_3     2.652646\n",
       "level_4     3.010744\n",
       "level_5    10.808444\n",
       "Name: GPA, dtype: float64"
      ]
     },
     "execution_count": 148,
     "metadata": {},
     "output_type": "execute_result"
    }
   ],
   "source": [
    "df.groupby(['Education_level'])['GPA'].mean()"
   ]
  },
  {
   "cell_type": "code",
   "execution_count": 157,
   "metadata": {},
   "outputs": [],
   "source": [
    "df['GPA_edited']=df['GPA'].apply(gpa)"
   ]
  },
  {
   "cell_type": "code",
   "execution_count": 158,
   "metadata": {},
   "outputs": [
    {
     "data": {
      "text/plain": [
       "GPA_edited  Best Performance\n",
       "invalid     0.0                 0.846132\n",
       "            1.0                 0.153868\n",
       "valid       0.0                 0.885068\n",
       "            1.0                 0.114932\n",
       "Name: Best Performance, dtype: float64"
      ]
     },
     "execution_count": 158,
     "metadata": {},
     "output_type": "execute_result"
    }
   ],
   "source": [
    "df.groupby(['GPA_edited'])['Best Performance'].value_counts(normalize=True)"
   ]
  },
  {
   "cell_type": "code",
   "execution_count": 163,
   "metadata": {},
   "outputs": [],
   "source": [
    "import seaborn as sns\n",
    "import matplotlib.pyplot as plt"
   ]
  },
  {
   "cell_type": "code",
   "execution_count": 172,
   "metadata": {},
   "outputs": [
    {
     "data": {
      "image/png": "[encoded data removed]",
      "text/plain": [
       "<Figure size 1440x504 with 1 Axes>"
      ]
     },
     "metadata": {
      "needs_background": "light"
     },
     "output_type": "display_data"
    }
   ],
   "source": [
    "plt.figure(figsize=(20,7))\n",
    "\n",
    "sns.distplot(df[df['Best Performance']==1]['GPA'],bins=1000,label='1')\n",
    "sns.distplot(df[df['Best Performance']==0]['GPA'],bins=1000,label='2')\n",
    "\n",
    "plt.legend()\n",
    "plt.xlim(2,4)\n",
    "plt.show()"
   ]
  },
  {
   "cell_type": "markdown",
   "metadata": {},
   "source": [
    "# Job Level"
   ]
  },
  {
   "cell_type": "code",
   "execution_count": 149,
   "metadata": {},
   "outputs": [
    {
     "data": {
      "text/plain": [
       "JG04    24750\n",
       "JG03     2006\n",
       "JG05     1242\n",
       "JG06        7\n",
       "Name: job_level, dtype: int64"
      ]
     },
     "execution_count": 149,
     "metadata": {},
     "output_type": "execute_result"
    }
   ],
   "source": [
    "df['job_level'].value_counts()"
   ]
  },
  {
   "cell_type": "code",
   "execution_count": 150,
   "metadata": {},
   "outputs": [
    {
     "data": {
      "text/plain": [
       "job_level  Best Performance\n",
       "JG03       0.0                 0.993467\n",
       "           1.0                 0.006533\n",
       "JG04       0.0                 0.868097\n",
       "           1.0                 0.131903\n",
       "JG05       0.0                 0.849412\n",
       "           1.0                 0.150588\n",
       "JG06       0.0                 1.000000\n",
       "Name: Best Performance, dtype: float64"
      ]
     },
     "execution_count": 150,
     "metadata": {},
     "output_type": "execute_result"
    }
   ],
   "source": [
    "df.groupby(['job_level'])['Best Performance'].value_counts(normalize=True)"
   ]
  },
  {
   "cell_type": "markdown",
   "metadata": {},
   "source": [
    "# Person Level"
   ]
  },
  {
   "cell_type": "code",
   "execution_count": 151,
   "metadata": {},
   "outputs": [
    {
     "data": {
      "text/plain": [
       "PG03    23496\n",
       "PG01     1958\n",
       "PG04     1244\n",
       "PG06      704\n",
       "PG05      515\n",
       "PG02       45\n",
       "PG07       40\n",
       "PG08        3\n",
       "Name: person_level, dtype: int64"
      ]
     },
     "execution_count": 151,
     "metadata": {},
     "output_type": "execute_result"
    }
   ],
   "source": [
    "df['person_level'].value_counts()"
   ]
  },
  {
   "cell_type": "code",
   "execution_count": 152,
   "metadata": {},
   "outputs": [
    {
     "data": {
      "text/plain": [
       "0"
      ]
     },
     "execution_count": 152,
     "metadata": {},
     "output_type": "execute_result"
    }
   ],
   "source": [
    "df['person_level'].isnull().sum()"
   ]
  },
  {
   "cell_type": "code",
   "execution_count": 104,
   "metadata": {},
   "outputs": [
    {
     "data": {
      "text/plain": [
       "person_level  Best Performance\n",
       "PG01          0                   0.995375\n",
       "              1                   0.004625\n",
       "PG02          0                   0.902439\n",
       "              1                   0.097561\n",
       "PG03          0                   0.868771\n",
       "              1                   0.131229\n",
       "PG04          0                   0.852540\n",
       "              1                   0.147460\n",
       "PG05          0                   0.873626\n",
       "              1                   0.126374\n",
       "PG06          0                   0.836820\n",
       "              1                   0.163180\n",
       "PG07          0                   0.833333\n",
       "              1                   0.166667\n",
       "PG08          0                   0.666667\n",
       "              1                   0.333333\n",
       "Name: Best Performance, dtype: float64"
      ]
     },
     "execution_count": 104,
     "metadata": {},
     "output_type": "execute_result"
    }
   ],
   "source": [
    "df.groupby(['person_level'])['Best Performance'].value_counts(normalize=True)"
   ]
  },
  {
   "cell_type": "markdown",
   "metadata": {},
   "source": [
    "# Education Level"
   ]
  },
  {
   "cell_type": "code",
   "execution_count": 53,
   "metadata": {},
   "outputs": [
    {
     "data": {
      "text/plain": [
       "level_4    15313\n",
       "level_3     2804\n",
       "level_1      192\n",
       "level_5       64\n",
       "level_0       16\n",
       "level_2        8\n",
       "Name: Education_level, dtype: int64"
      ]
     },
     "execution_count": 53,
     "metadata": {},
     "output_type": "execute_result"
    }
   ],
   "source": [
    "df['Education_level'].value_counts()"
   ]
  },
  {
   "cell_type": "code",
   "execution_count": 55,
   "metadata": {},
   "outputs": [
    {
     "data": {
      "text/plain": [
       "3608"
      ]
     },
     "execution_count": 55,
     "metadata": {},
     "output_type": "execute_result"
    }
   ],
   "source": [
    "df['Education_level'].isnull().sum()"
   ]
  },
  {
   "cell_type": "code",
   "execution_count": 103,
   "metadata": {},
   "outputs": [
    {
     "data": {
      "text/plain": [
       "Education_level  Best Performance\n",
       "level_0          0                   0.937500\n",
       "                 1                   0.062500\n",
       "level_1          0                   0.822917\n",
       "                 1                   0.177083\n",
       "level_2          0                   1.000000\n",
       "level_3          0                   0.884807\n",
       "                 1                   0.115193\n",
       "level_4          0                   0.885914\n",
       "                 1                   0.114086\n",
       "level_5          0                   0.843750\n",
       "                 1                   0.156250\n",
       "Name: Best Performance, dtype: float64"
      ]
     },
     "execution_count": 103,
     "metadata": {},
     "output_type": "execute_result"
    }
   ],
   "source": [
    "df.groupby(['Education_level'])['Best Performance'].value_counts(normalize=True)"
   ]
  },
  {
   "cell_type": "code",
   "execution_count": null,
   "metadata": {},
   "outputs": [],
   "source": [
    " "
   ]
  }
 ],
 "metadata": {
  "kernelspec": {
   "display_name": "Python 3",
   "language": "python",
   "name": "python3"
  },
  "language_info": {
   "codemirror_mode": {
    "name": "ipython",
    "version": 3
   },
   "file_extension": ".py",
   "mimetype": "text/x-python",
   "name": "python",
   "nbconvert_exporter": "python",
   "pygments_lexer": "ipython3",
   "version": "3.8.3"
  }
 },
 "nbformat": 4,
 "nbformat_minor": 4
}
