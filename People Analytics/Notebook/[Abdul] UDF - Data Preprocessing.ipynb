{
 "cells": [
  {
   "cell_type": "markdown",
   "metadata": {},
   "source": [
    "# Achievement Target 1"
   ]
  },
  {
   "cell_type": "code",
   "execution_count": 2,
   "metadata": {},
   "outputs": [],
   "source": [
    "def achievement_target1(x):\n",
    "    if x == 'Pencapaian 50%-100%':\n",
    "        return 'achiev_50%-100%'\n",
    "    elif x == 'Pencapaian 100%-150%':\n",
    "        return 'achiev_100%-150%'\n",
    "    elif x == 'Pencapaian < 50%':\n",
    "        return 'achiev_< 50%'\n",
    "    elif x == 'Pencapaian > 1.5':\n",
    "        return 'achiev_> 1.5'\n",
    "    else:\n",
    "        return x"
   ]
  },
  {
   "cell_type": "markdown",
   "metadata": {},
   "source": [
    "# Achievement Target 2"
   ]
  },
  {
   "cell_type": "code",
   "execution_count": 6,
   "metadata": {},
   "outputs": [],
   "source": [
    "def achievement_target2(x):\n",
    "    if x == 'Pencapaian 50%-100%':\n",
    "        return 'achiev_50%-100%'\n",
    "    elif x == 'Pencapaian 100%-150%':\n",
    "        return 'achiev_100%-150%'\n",
    "    elif x == 'Pencapaian < 50%':\n",
    "        return 'achiev_< 50%'\n",
    "    elif x == 'Pencapaian > 1.5':\n",
    "        return 'achiev_> 1.5'\n",
    "    else:\n",
    "        return x"
   ]
  },
  {
   "cell_type": "markdown",
   "metadata": {},
   "source": [
    "# Achievement Target 3"
   ]
  },
  {
   "cell_type": "code",
   "execution_count": 7,
   "metadata": {},
   "outputs": [],
   "source": [
    "def achievement_target3(x):\n",
    "    if x == 'not reached':\n",
    "        return 'not_reached'\n",
    "    else:\n",
    "        return x"
   ]
  },
  {
   "cell_type": "markdown",
   "metadata": {},
   "source": [
    "# Year Graduated"
   ]
  },
  {
   "cell_type": "code",
   "execution_count": 8,
   "metadata": {},
   "outputs": [],
   "source": [
    "def year_graduated(x):\n",
    "    if x >= '1900' and x <= '2020':\n",
    "        return x\n",
    "    else:\n",
    "        return 'invalid'"
   ]
  },
  {
   "cell_type": "markdown",
   "metadata": {},
   "source": [
    "# GPA"
   ]
  },
  {
   "cell_type": "code",
   "execution_count": 9,
   "metadata": {},
   "outputs": [],
   "source": [
    "def gpa(x):\n",
    "    if not (x>=0 and x <= 4):\n",
    "        return 'invalid'\n",
    "    else:\n",
    "        return x"
   ]
  },
  {
   "cell_type": "markdown",
   "metadata": {},
   "source": [
    "# Education Level"
   ]
  },
  {
   "cell_type": "code",
   "execution_count": null,
   "metadata": {},
   "outputs": [],
   "source": [
    "def education_level(x):\n",
    "    "
   ]
  },
  {
   "cell_type": "markdown",
   "metadata": {},
   "source": [
    "# Person Level"
   ]
  },
  {
   "cell_type": "code",
   "execution_count": null,
   "metadata": {},
   "outputs": [],
   "source": []
  },
  {
   "cell_type": "code",
   "execution_count": null,
   "metadata": {},
   "outputs": [],
   "source": []
  },
  {
   "cell_type": "code",
   "execution_count": null,
   "metadata": {},
   "outputs": [],
   "source": []
  }
 ],
 "metadata": {
  "kernelspec": {
   "display_name": "Python 3",
   "language": "python",
   "name": "python3"
  },
  "language_info": {
   "codemirror_mode": {
    "name": "ipython",
    "version": 3
   },
   "file_extension": ".py",
   "mimetype": "text/x-python",
   "name": "python",
   "nbconvert_exporter": "python",
   "pygments_lexer": "ipython3",
   "version": "3.8.3"
  }
 },
 "nbformat": 4,
 "nbformat_minor": 4
}
