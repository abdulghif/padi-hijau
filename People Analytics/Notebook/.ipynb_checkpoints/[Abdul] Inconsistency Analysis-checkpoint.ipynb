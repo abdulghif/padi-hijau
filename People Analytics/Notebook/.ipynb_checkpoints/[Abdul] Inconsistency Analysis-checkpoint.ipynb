{
 "cells": [
  {
   "cell_type": "code",
   "execution_count": 3,
   "metadata": {},
   "outputs": [],
   "source": [
    "import pandas as pd\n",
    "import numpy as np"
   ]
  },
  {
   "cell_type": "code",
   "execution_count": 4,
   "metadata": {},
   "outputs": [],
   "source": [
    "df = pd.read_csv('../Data/train.csv')"
   ]
  },
  {
   "cell_type": "code",
   "execution_count": 10,
   "metadata": {},
   "outputs": [
    {
     "name": "stdout",
     "output_type": "stream",
     "text": [
      "<class 'pandas.core.frame.DataFrame'>\n",
      "RangeIndex: 22005 entries, 0 to 22004\n",
      "Data columns (total 30 columns):\n",
      " #   Column                                 Non-Null Count  Dtype  \n",
      "---  ------                                 --------------  -----  \n",
      " 0   job_level                              22005 non-null  object \n",
      " 1   job_duration_in_current_job_level      22005 non-null  float64\n",
      " 2   person_level                           22005 non-null  object \n",
      " 3   job_duration_in_current_person_level   22005 non-null  float64\n",
      " 4   job_duration_in_current_branch         22005 non-null  float64\n",
      " 5   Employee_type                          21993 non-null  object \n",
      " 6   Employee_status                        22005 non-null  object \n",
      " 7   gender                                 22005 non-null  object \n",
      " 8   age                                    22005 non-null  int64  \n",
      " 9   marital_status_maried(Y/N)             22005 non-null  object \n",
      " 10  number_of_dependences                  22005 non-null  int64  \n",
      " 11  number_of_dependences (male)           22005 non-null  int64  \n",
      " 12  number_of_dependences (female)         22005 non-null  int64  \n",
      " 13  Education_level                        18397 non-null  object \n",
      " 14  GPA                                    18502 non-null  float64\n",
      " 15  year_graduated                         18502 non-null  object \n",
      " 16  job_duration_as_permanent_worker       19950 non-null  float64\n",
      " 17  job_duration_from_training             22005 non-null  int64  \n",
      " 18  branch_rotation                        22005 non-null  int64  \n",
      " 19  job_rotation                           22005 non-null  int64  \n",
      " 20  assign_of_otherposition                22005 non-null  int64  \n",
      " 21  annual leave                           22005 non-null  int64  \n",
      " 22  sick_leaves                            22005 non-null  int64  \n",
      " 23  Best Performance                       22005 non-null  int64  \n",
      " 24  Avg_achievement_%                      15716 non-null  float64\n",
      " 25  Last_achievement_%                     15703 non-null  float64\n",
      " 26  Achievement_above_100%_during3quartal  15703 non-null  float64\n",
      " 27  achievement_target_1                   15278 non-null  object \n",
      " 28  achievement_target_2                   15278 non-null  object \n",
      " 29  achievement_target_3                   15278 non-null  object \n",
      "dtypes: float64(8), int64(11), object(11)\n",
      "memory usage: 5.0+ MB\n"
     ]
    }
   ],
   "source": [
    "df.info()"
   ]
  },
  {
   "cell_type": "code",
   "execution_count": 5,
   "metadata": {},
   "outputs": [
    {
     "data": {
      "text/html": [
       "<div>\n",
       "<style scoped>\n",
       "    .dataframe tbody tr th:only-of-type {\n",
       "        vertical-align: middle;\n",
       "    }\n",
       "\n",
       "    .dataframe tbody tr th {\n",
       "        vertical-align: top;\n",
       "    }\n",
       "\n",
       "    .dataframe thead th {\n",
       "        text-align: right;\n",
       "    }\n",
       "</style>\n",
       "<table border=\"1\" class=\"dataframe\">\n",
       "  <thead>\n",
       "    <tr style=\"text-align: right;\">\n",
       "      <th></th>\n",
       "      <th>job_level</th>\n",
       "      <th>job_duration_in_current_job_level</th>\n",
       "      <th>person_level</th>\n",
       "      <th>job_duration_in_current_person_level</th>\n",
       "      <th>job_duration_in_current_branch</th>\n",
       "      <th>Employee_type</th>\n",
       "      <th>Employee_status</th>\n",
       "      <th>gender</th>\n",
       "      <th>age</th>\n",
       "      <th>marital_status_maried(Y/N)</th>\n",
       "      <th>...</th>\n",
       "      <th>assign_of_otherposition</th>\n",
       "      <th>annual leave</th>\n",
       "      <th>sick_leaves</th>\n",
       "      <th>Best Performance</th>\n",
       "      <th>Avg_achievement_%</th>\n",
       "      <th>Last_achievement_%</th>\n",
       "      <th>Achievement_above_100%_during3quartal</th>\n",
       "      <th>achievement_target_1</th>\n",
       "      <th>achievement_target_2</th>\n",
       "      <th>achievement_target_3</th>\n",
       "    </tr>\n",
       "  </thead>\n",
       "  <tbody>\n",
       "    <tr>\n",
       "      <th>0</th>\n",
       "      <td>JG05</td>\n",
       "      <td>8.00</td>\n",
       "      <td>PG06</td>\n",
       "      <td>8.00</td>\n",
       "      <td>0.50</td>\n",
       "      <td>RM_type_A</td>\n",
       "      <td>Permanent</td>\n",
       "      <td>Female</td>\n",
       "      <td>1964</td>\n",
       "      <td>Y</td>\n",
       "      <td>...</td>\n",
       "      <td>0</td>\n",
       "      <td>8</td>\n",
       "      <td>0</td>\n",
       "      <td>0</td>\n",
       "      <td>68.85</td>\n",
       "      <td>72.53</td>\n",
       "      <td>0.0</td>\n",
       "      <td>achiev_50%-100%</td>\n",
       "      <td>achiev_&lt; 50%</td>\n",
       "      <td>reached</td>\n",
       "    </tr>\n",
       "    <tr>\n",
       "      <th>1</th>\n",
       "      <td>JG04</td>\n",
       "      <td>5.17</td>\n",
       "      <td>PG04</td>\n",
       "      <td>2.00</td>\n",
       "      <td>1.25</td>\n",
       "      <td>RM_type_A</td>\n",
       "      <td>Permanent</td>\n",
       "      <td>Male</td>\n",
       "      <td>1979</td>\n",
       "      <td>Y</td>\n",
       "      <td>...</td>\n",
       "      <td>9</td>\n",
       "      <td>3</td>\n",
       "      <td>0</td>\n",
       "      <td>0</td>\n",
       "      <td>94.81</td>\n",
       "      <td>101.13</td>\n",
       "      <td>3.0</td>\n",
       "      <td>achiev_50%-100%</td>\n",
       "      <td>achiev_50%-100%</td>\n",
       "      <td>reached</td>\n",
       "    </tr>\n",
       "    <tr>\n",
       "      <th>2</th>\n",
       "      <td>JG04</td>\n",
       "      <td>1.83</td>\n",
       "      <td>PG03</td>\n",
       "      <td>1.83</td>\n",
       "      <td>1.50</td>\n",
       "      <td>RM_type_A</td>\n",
       "      <td>Permanent</td>\n",
       "      <td>Male</td>\n",
       "      <td>1980</td>\n",
       "      <td>Y</td>\n",
       "      <td>...</td>\n",
       "      <td>0</td>\n",
       "      <td>6</td>\n",
       "      <td>0</td>\n",
       "      <td>0</td>\n",
       "      <td>72.82</td>\n",
       "      <td>71.30</td>\n",
       "      <td>0.0</td>\n",
       "      <td>achiev_100%-150%</td>\n",
       "      <td>achiev_&lt; 50%</td>\n",
       "      <td>not_reached</td>\n",
       "    </tr>\n",
       "    <tr>\n",
       "      <th>3</th>\n",
       "      <td>JG04</td>\n",
       "      <td>7.92</td>\n",
       "      <td>PG04</td>\n",
       "      <td>4.00</td>\n",
       "      <td>0.17</td>\n",
       "      <td>RM_type_A</td>\n",
       "      <td>Permanent</td>\n",
       "      <td>Male</td>\n",
       "      <td>1984</td>\n",
       "      <td>Y</td>\n",
       "      <td>...</td>\n",
       "      <td>0</td>\n",
       "      <td>3</td>\n",
       "      <td>0</td>\n",
       "      <td>0</td>\n",
       "      <td>86.89</td>\n",
       "      <td>90.09</td>\n",
       "      <td>2.0</td>\n",
       "      <td>achiev_50%-100%</td>\n",
       "      <td>achiev_50%-100%</td>\n",
       "      <td>not_reached</td>\n",
       "    </tr>\n",
       "    <tr>\n",
       "      <th>4</th>\n",
       "      <td>JG04</td>\n",
       "      <td>1.83</td>\n",
       "      <td>PG03</td>\n",
       "      <td>1.83</td>\n",
       "      <td>2.08</td>\n",
       "      <td>RM_type_A</td>\n",
       "      <td>Permanent</td>\n",
       "      <td>Male</td>\n",
       "      <td>1984</td>\n",
       "      <td>Y</td>\n",
       "      <td>...</td>\n",
       "      <td>11</td>\n",
       "      <td>2</td>\n",
       "      <td>1</td>\n",
       "      <td>1</td>\n",
       "      <td>95.17</td>\n",
       "      <td>100.72</td>\n",
       "      <td>2.0</td>\n",
       "      <td>achiev_&lt; 50%</td>\n",
       "      <td>achiev_&gt; 1.5</td>\n",
       "      <td>not_reached</td>\n",
       "    </tr>\n",
       "  </tbody>\n",
       "</table>\n",
       "<p>5 rows × 30 columns</p>\n",
       "</div>"
      ],
      "text/plain": [
       "  job_level  job_duration_in_current_job_level person_level  \\\n",
       "0      JG05                               8.00         PG06   \n",
       "1      JG04                               5.17         PG04   \n",
       "2      JG04                               1.83         PG03   \n",
       "3      JG04                               7.92         PG04   \n",
       "4      JG04                               1.83         PG03   \n",
       "\n",
       "   job_duration_in_current_person_level  job_duration_in_current_branch  \\\n",
       "0                                  8.00                            0.50   \n",
       "1                                  2.00                            1.25   \n",
       "2                                  1.83                            1.50   \n",
       "3                                  4.00                            0.17   \n",
       "4                                  1.83                            2.08   \n",
       "\n",
       "  Employee_type Employee_status  gender   age marital_status_maried(Y/N)  ...  \\\n",
       "0     RM_type_A       Permanent  Female  1964                          Y  ...   \n",
       "1     RM_type_A       Permanent    Male  1979                          Y  ...   \n",
       "2     RM_type_A       Permanent    Male  1980                          Y  ...   \n",
       "3     RM_type_A       Permanent    Male  1984                          Y  ...   \n",
       "4     RM_type_A       Permanent    Male  1984                          Y  ...   \n",
       "\n",
       "   assign_of_otherposition  annual leave  sick_leaves Best Performance  \\\n",
       "0                        0             8            0                0   \n",
       "1                        9             3            0                0   \n",
       "2                        0             6            0                0   \n",
       "3                        0             3            0                0   \n",
       "4                       11             2            1                1   \n",
       "\n",
       "   Avg_achievement_% Last_achievement_%  \\\n",
       "0              68.85              72.53   \n",
       "1              94.81             101.13   \n",
       "2              72.82              71.30   \n",
       "3              86.89              90.09   \n",
       "4              95.17             100.72   \n",
       "\n",
       "   Achievement_above_100%_during3quartal  achievement_target_1  \\\n",
       "0                                    0.0       achiev_50%-100%   \n",
       "1                                    3.0       achiev_50%-100%   \n",
       "2                                    0.0      achiev_100%-150%   \n",
       "3                                    2.0       achiev_50%-100%   \n",
       "4                                    2.0          achiev_< 50%   \n",
       "\n",
       "   achievement_target_2  achievement_target_3  \n",
       "0          achiev_< 50%               reached  \n",
       "1       achiev_50%-100%               reached  \n",
       "2          achiev_< 50%           not_reached  \n",
       "3       achiev_50%-100%           not_reached  \n",
       "4          achiev_> 1.5           not_reached  \n",
       "\n",
       "[5 rows x 30 columns]"
      ]
     },
     "execution_count": 5,
     "metadata": {},
     "output_type": "execute_result"
    }
   ],
   "source": [
    "df.head()"
   ]
  },
  {
   "cell_type": "markdown",
   "metadata": {},
   "source": [
    "# Achievement Target 1"
   ]
  },
  {
   "cell_type": "code",
   "execution_count": 106,
   "metadata": {},
   "outputs": [
    {
     "data": {
      "text/plain": [
       "achiev_50%-100%           7679\n",
       "achiev_100%-150%          2519\n",
       "achiev_< 50%              2065\n",
       "Pencapaian 50%-100%       1531\n",
       "achiev_> 1.5               597\n",
       "Pencapaian 100%-150%       485\n",
       "Tidak diberikan target     178\n",
       "Pencapaian < 50%           175\n",
       "Pencapaian > 1.5            49\n",
       "Name: achievement_target_1, dtype: int64"
      ]
     },
     "execution_count": 106,
     "metadata": {},
     "output_type": "execute_result"
    }
   ],
   "source": [
    "df['achievement_target_1'].value_counts()"
   ]
  },
  {
   "cell_type": "code",
   "execution_count": 7,
   "metadata": {},
   "outputs": [
    {
     "data": {
      "text/plain": [
       "achievement_target_1    Best Performance\n",
       "Pencapaian 100%-150%    0                   0.868041\n",
       "                        1                   0.131959\n",
       "Pencapaian 50%-100%     0                   0.866101\n",
       "                        1                   0.133899\n",
       "Pencapaian < 50%        0                   0.857143\n",
       "                        1                   0.142857\n",
       "Pencapaian > 1.5        0                   0.938776\n",
       "                        1                   0.061224\n",
       "Tidak diberikan target  0                   0.837079\n",
       "                        1                   0.162921\n",
       "achiev_100%-150%        0                   0.857086\n",
       "                        1                   0.142914\n",
       "achiev_50%-100%         0                   0.845943\n",
       "                        1                   0.154057\n",
       "achiev_< 50%            0                   0.847458\n",
       "                        1                   0.152542\n",
       "achiev_> 1.5            0                   0.845896\n",
       "                        1                   0.154104\n",
       "Name: Best Performance, dtype: float64"
      ]
     },
     "execution_count": 7,
     "metadata": {},
     "output_type": "execute_result"
    }
   ],
   "source": [
    "df.groupby(['achievement_target_1'])['Best Performance'].value_counts(normalize=True)"
   ]
  },
  {
   "cell_type": "code",
   "execution_count": 65,
   "metadata": {},
   "outputs": [
    {
     "data": {
      "text/plain": [
       "achiev_50%-100%           9210\n",
       "achiev_100%-150%          3004\n",
       "achiev_< 50%              2240\n",
       "achiev_> 1.5               646\n",
       "Tidak diberikan target     178\n",
       "Name: achievement_target_1, dtype: int64"
      ]
     },
     "execution_count": 65,
     "metadata": {},
     "output_type": "execute_result"
    }
   ],
   "source": [
    "df['achievement_target_1'].apply(achievement_target1).value_counts()"
   ]
  },
  {
   "cell_type": "code",
   "execution_count": 64,
   "metadata": {},
   "outputs": [
    {
     "data": {
      "text/plain": [
       "15278"
      ]
     },
     "execution_count": 64,
     "metadata": {},
     "output_type": "execute_result"
    }
   ],
   "source": [
    "df['achievement_target_1'].apply(achievement_target1).value_counts().sum()"
   ]
  },
  {
   "cell_type": "markdown",
   "metadata": {},
   "source": [
    "# Achievement Target 2"
   ]
  },
  {
   "cell_type": "code",
   "execution_count": 70,
   "metadata": {},
   "outputs": [
    {
     "data": {
      "text/plain": [
       "15278"
      ]
     },
     "execution_count": 70,
     "metadata": {},
     "output_type": "execute_result"
    }
   ],
   "source": [
    "df['achievement_target_2'].value_counts().sum()"
   ]
  },
  {
   "cell_type": "code",
   "execution_count": 8,
   "metadata": {},
   "outputs": [
    {
     "data": {
      "text/plain": [
       "achievement_target_2    Best Performance\n",
       "Pencapaian 100%-150%    0                   0.868966\n",
       "                        1                   0.131034\n",
       "Pencapaian 50%-100%     0                   0.886364\n",
       "                        1                   0.113636\n",
       "Pencapaian < 50%        0                   0.860571\n",
       "                        1                   0.139429\n",
       "Pencapaian > 1.5        0                   0.859155\n",
       "                        1                   0.140845\n",
       "Tidak diberikan target  0                   0.880682\n",
       "                        1                   0.119318\n",
       "achiev_100%-150%        0                   0.871351\n",
       "                        1                   0.128649\n",
       "achiev_50%-100%         0                   0.845731\n",
       "                        1                   0.154269\n",
       "achiev_< 50%            0                   0.846779\n",
       "                        1                   0.153221\n",
       "achiev_> 1.5            0                   0.840671\n",
       "                        1                   0.159329\n",
       "Name: Best Performance, dtype: float64"
      ]
     },
     "execution_count": 8,
     "metadata": {},
     "output_type": "execute_result"
    }
   ],
   "source": [
    "df.groupby(['achievement_target_2'])['Best Performance'].value_counts(normalize=True)"
   ]
  },
  {
   "cell_type": "code",
   "execution_count": 66,
   "metadata": {},
   "outputs": [],
   "source": [
    "def achievement_target2(x):\n",
    "    if x == 'Pencapaian 50%-100%':\n",
    "        return 'achiev_50%-100%'\n",
    "    elif x == 'Pencapaian 100%-150%':\n",
    "        return 'achiev_100%-150%'\n",
    "    elif x == 'Pencapaian < 50%':\n",
    "        return 'achiev_< 50%'\n",
    "    elif x == 'Pencapaian > 1.5':\n",
    "        return 'achiev_> 1.5'\n",
    "    else:\n",
    "        return x"
   ]
  },
  {
   "cell_type": "code",
   "execution_count": 71,
   "metadata": {},
   "outputs": [
    {
     "data": {
      "text/plain": [
       "achiev_< 50%              10157\n",
       "achiev_50%-100%            2850\n",
       "achiev_100%-150%           1070\n",
       "achiev_> 1.5               1025\n",
       "Tidak diberikan target      176\n",
       "Name: achievement_target_2, dtype: int64"
      ]
     },
     "execution_count": 71,
     "metadata": {},
     "output_type": "execute_result"
    }
   ],
   "source": [
    "df['achievement_target_2'].apply(achievement_target2).value_counts()"
   ]
  },
  {
   "cell_type": "code",
   "execution_count": 68,
   "metadata": {},
   "outputs": [
    {
     "data": {
      "text/plain": [
       "15278"
      ]
     },
     "execution_count": 68,
     "metadata": {},
     "output_type": "execute_result"
    }
   ],
   "source": [
    "df['achievement_target_2'].apply(achievement_target2).value_counts().sum()"
   ]
  },
  {
   "cell_type": "markdown",
   "metadata": {},
   "source": [
    "# Achievement Target 3"
   ]
  },
  {
   "cell_type": "code",
   "execution_count": 79,
   "metadata": {},
   "outputs": [],
   "source": [
    "def achievement_target3(x):\n",
    "    if x == 'not reached':\n",
    "        return 'not_reached'\n",
    "    else:\n",
    "        return x"
   ]
  },
  {
   "cell_type": "code",
   "execution_count": 78,
   "metadata": {},
   "outputs": [
    {
     "data": {
      "text/plain": [
       "reached        10985\n",
       "not reached     4275\n",
       "not_reached       18\n",
       "Name: achievement_target_3, dtype: int64"
      ]
     },
     "execution_count": 78,
     "metadata": {},
     "output_type": "execute_result"
    }
   ],
   "source": [
    "df['achievement_target_3'].value_counts()"
   ]
  },
  {
   "cell_type": "code",
   "execution_count": 74,
   "metadata": {},
   "outputs": [
    {
     "data": {
      "text/plain": [
       "15278"
      ]
     },
     "execution_count": 74,
     "metadata": {},
     "output_type": "execute_result"
    }
   ],
   "source": [
    "df['achievement_target_3'].value_counts().sum()"
   ]
  },
  {
   "cell_type": "code",
   "execution_count": 9,
   "metadata": {},
   "outputs": [
    {
     "data": {
      "text/plain": [
       "achievement_target_3  Best Performance\n",
       "not reached           0                   0.838129\n",
       "                      1                   0.161871\n",
       "not_reached           0                   0.722222\n",
       "                      1                   0.277778\n",
       "reached               0                   0.856259\n",
       "                      1                   0.143741\n",
       "Name: Best Performance, dtype: float64"
      ]
     },
     "execution_count": 9,
     "metadata": {},
     "output_type": "execute_result"
    }
   ],
   "source": [
    "df.groupby(['achievement_target_3'])['Best Performance'].value_counts(normalize=True)"
   ]
  },
  {
   "cell_type": "code",
   "execution_count": 81,
   "metadata": {},
   "outputs": [
    {
     "data": {
      "text/plain": [
       "reached        10985\n",
       "not_reached     4293\n",
       "Name: achievement_target_3, dtype: int64"
      ]
     },
     "execution_count": 81,
     "metadata": {},
     "output_type": "execute_result"
    }
   ],
   "source": [
    "df['achievement_target_3'].apply(achievement_target3).value_counts()"
   ]
  },
  {
   "cell_type": "markdown",
   "metadata": {},
   "source": [
    "# Year Graduated"
   ]
  },
  {
   "cell_type": "code",
   "execution_count": 46,
   "metadata": {},
   "outputs": [
    {
     "data": {
      "text/plain": [
       "2013    2552\n",
       "2011    2290\n",
       "2012    2225\n",
       "2014    2031\n",
       "2010    1872\n",
       "2009    1365\n",
       "2008    1170\n",
       "2015     946\n",
       "2007     703\n",
       "0        440\n",
       "2006     433\n",
       "2016     417\n",
       "2005     314\n",
       "2004     297\n",
       "2003     253\n",
       "2017     212\n",
       "2002     198\n",
       "2001     122\n",
       "\\N        87\n",
       "2018      72\n",
       "2000      71\n",
       "9999      66\n",
       "1999      42\n",
       "1996      41\n",
       "1998      35\n",
       "1995      32\n",
       "1994      27\n",
       "1993      22\n",
       "1992      18\n",
       "2999      17\n",
       "1987      15\n",
       "1997      15\n",
       "1991      14\n",
       "2019      12\n",
       "1988      12\n",
       "1990      11\n",
       "1989      10\n",
       "1985       8\n",
       "1986       8\n",
       "2201       5\n",
       "-          4\n",
       "1983       3\n",
       "2200       3\n",
       "201        2\n",
       "1984       2\n",
       "____       2\n",
       "102        1\n",
       "2044       1\n",
       "2031       1\n",
       "3016       1\n",
       "2020       1\n",
       "9464       1\n",
       "Name: year_graduated, dtype: int64"
      ]
     },
     "execution_count": 46,
     "metadata": {},
     "output_type": "execute_result"
    }
   ],
   "source": [
    "df['year_graduated'].value_counts()"
   ]
  },
  {
   "cell_type": "code",
   "execution_count": 83,
   "metadata": {},
   "outputs": [
    {
     "data": {
      "text/plain": [
       "0        1987\n",
       "1        2001\n",
       "2        2007\n",
       "3        2006\n",
       "6        2008\n",
       "         ... \n",
       "21999    2009\n",
       "22000    2009\n",
       "22001    2014\n",
       "22002    2006\n",
       "22003    2010\n",
       "Name: year_graduated, Length: 17873, dtype: object"
      ]
     },
     "execution_count": 83,
     "metadata": {},
     "output_type": "execute_result"
    }
   ],
   "source": [
    "df[(df['year_graduated']>='1900')&(df['year_graduated']<='2020')]['year_graduated']"
   ]
  },
  {
   "cell_type": "code",
   "execution_count": 22,
   "metadata": {},
   "outputs": [
    {
     "data": {
      "text/plain": [
       "(22005, 30)"
      ]
     },
     "execution_count": 22,
     "metadata": {},
     "output_type": "execute_result"
    }
   ],
   "source": [
    "df.shape"
   ]
  },
  {
   "cell_type": "code",
   "execution_count": 89,
   "metadata": {},
   "outputs": [],
   "source": [
    "def year_graduated(x):\n",
    "    try:\n",
    "        x = int(x)\n",
    "        if not (x >= 1900 and x <= 2020):\n",
    "            return 'invalid'\n",
    "        else:\n",
    "            return x\n",
    "    except:\n",
    "        x = x"
   ]
  },
  {
   "cell_type": "code",
   "execution_count": 94,
   "metadata": {},
   "outputs": [
    {
     "data": {
      "text/plain": [
       "0    1987\n",
       "1    2001\n",
       "2    2007\n",
       "3    2006\n",
       "4    None\n",
       "Name: year_graduated, dtype: object"
      ]
     },
     "execution_count": 94,
     "metadata": {},
     "output_type": "execute_result"
    }
   ],
   "source": [
    "df['year_graduated'].apply(year_graduated).head()"
   ]
  },
  {
   "cell_type": "markdown",
   "metadata": {},
   "source": [
    "## Lot of Missing Value"
   ]
  },
  {
   "cell_type": "code",
   "execution_count": 38,
   "metadata": {},
   "outputs": [
    {
     "data": {
      "text/plain": [
       "3503"
      ]
     },
     "execution_count": 38,
     "metadata": {},
     "output_type": "execute_result"
    }
   ],
   "source": [
    "df['year_graduated'].isnull().sum()"
   ]
  },
  {
   "cell_type": "code",
   "execution_count": 44,
   "metadata": {},
   "outputs": [
    {
     "data": {
      "text/plain": [
       "year_graduated  Best Performance\n",
       "-               0                   0.750000\n",
       "                1                   0.250000\n",
       "0               0                   0.888636\n",
       "                1                   0.111364\n",
       "102             0                   1.000000\n",
       "                                      ...   \n",
       "9999            0                   0.772727\n",
       "                1                   0.227273\n",
       "\\N              0                   0.770115\n",
       "                1                   0.229885\n",
       "____            0                   1.000000\n",
       "Name: Best Performance, Length: 92, dtype: float64"
      ]
     },
     "execution_count": 44,
     "metadata": {},
     "output_type": "execute_result"
    }
   ],
   "source": [
    "df.groupby(['year_graduated'])['Best Performance'].value_counts(normalize=True)"
   ]
  },
  {
   "cell_type": "markdown",
   "metadata": {},
   "source": [
    "# GPA"
   ]
  },
  {
   "cell_type": "code",
   "execution_count": 24,
   "metadata": {},
   "outputs": [
    {
     "data": {
      "text/plain": [
       "Index(['job_level', 'job_duration_in_current_job_level', 'person_level',\n",
       "       'job_duration_in_current_person_level',\n",
       "       'job_duration_in_current_branch', 'Employee_type', 'Employee_status',\n",
       "       'gender', 'age', 'marital_status_maried(Y/N)', 'number_of_dependences',\n",
       "       'number_of_dependences (male)', 'number_of_dependences (female)',\n",
       "       'Education_level', 'GPA', 'year_graduated',\n",
       "       'job_duration_as_permanent_worker', 'job_duration_from_training',\n",
       "       'branch_rotation', 'job_rotation', 'assign_of_otherposition',\n",
       "       'annual leave', 'sick_leaves', 'Best Performance', 'Avg_achievement_%',\n",
       "       'Last_achievement_%', 'Achievement_above_100%_during3quartal',\n",
       "       'achievement_target_1', 'achievement_target_2', 'achievement_target_3'],\n",
       "      dtype='object')"
      ]
     },
     "execution_count": 24,
     "metadata": {},
     "output_type": "execute_result"
    }
   ],
   "source": [
    "df.columns"
   ]
  },
  {
   "cell_type": "code",
   "execution_count": 25,
   "metadata": {},
   "outputs": [
    {
     "data": {
      "text/plain": [
       "0.00     3853\n",
       "3.00      541\n",
       "3.01      353\n",
       "3.10      296\n",
       "3.14      294\n",
       "         ... \n",
       "8.41        1\n",
       "4.19        1\n",
       "8.69        1\n",
       "8.29        1\n",
       "32.12       1\n",
       "Name: GPA, Length: 241, dtype: int64"
      ]
     },
     "execution_count": 25,
     "metadata": {},
     "output_type": "execute_result"
    }
   ],
   "source": [
    "df['GPA'].value_counts()"
   ]
  },
  {
   "cell_type": "code",
   "execution_count": 36,
   "metadata": {},
   "outputs": [
    {
     "data": {
      "text/plain": [
       "0        2.32\n",
       "1        3.25\n",
       "2        3.23\n",
       "3        0.00\n",
       "6        3.65\n",
       "         ... \n",
       "21999    3.12\n",
       "22000    2.84\n",
       "22001    3.28\n",
       "22002    3.10\n",
       "22003    3.69\n",
       "Name: GPA, Length: 18437, dtype: float64"
      ]
     },
     "execution_count": 36,
     "metadata": {},
     "output_type": "execute_result"
    }
   ],
   "source": [
    "df[(df['GPA']>=0) & (df['GPA']<=4)]['GPA']"
   ]
  },
  {
   "cell_type": "code",
   "execution_count": null,
   "metadata": {},
   "outputs": [],
   "source": [
    "df[(df['GPA']>=0) & (df['GPA']<=4)]['GPA']"
   ]
  },
  {
   "cell_type": "code",
   "execution_count": 95,
   "metadata": {},
   "outputs": [],
   "source": [
    "def gpa(x):\n",
    "    if not (x>=0 and x <= 4):\n",
    "        return 'invalid'\n",
    "    else:\n",
    "        return x"
   ]
  },
  {
   "cell_type": "code",
   "execution_count": 100,
   "metadata": {},
   "outputs": [
    {
     "data": {
      "text/plain": [
       "0        2.32\n",
       "1        3.25\n",
       "2        3.23\n",
       "3        0.00\n",
       "4         NaN\n",
       "         ... \n",
       "22000    2.84\n",
       "22001    3.28\n",
       "22002    3.10\n",
       "22003    3.69\n",
       "22004     NaN\n",
       "Name: GPA, Length: 22005, dtype: float64"
      ]
     },
     "execution_count": 100,
     "metadata": {},
     "output_type": "execute_result"
    }
   ],
   "source": [
    "df['GPA']"
   ]
  },
  {
   "cell_type": "code",
   "execution_count": 99,
   "metadata": {},
   "outputs": [
    {
     "data": {
      "text/plain": [
       "0           2.32\n",
       "1           3.25\n",
       "2           3.23\n",
       "3              0\n",
       "4        invalid\n",
       "          ...   \n",
       "22000       2.84\n",
       "22001       3.28\n",
       "22002        3.1\n",
       "22003       3.69\n",
       "22004    invalid\n",
       "Name: GPA, Length: 22005, dtype: object"
      ]
     },
     "execution_count": 99,
     "metadata": {},
     "output_type": "execute_result"
    }
   ],
   "source": [
    "df['GPA'].apply(gpa)"
   ]
  },
  {
   "cell_type": "code",
   "execution_count": 101,
   "metadata": {},
   "outputs": [
    {
     "data": {
      "text/plain": [
       "0.0        3853\n",
       "invalid    3568\n",
       "3.0         541\n",
       "3.01        353\n",
       "3.1         296\n",
       "           ... \n",
       "2.27          1\n",
       "2.49          1\n",
       "2.56          1\n",
       "2.05          1\n",
       "2.2           1\n",
       "Name: GPA, Length: 177, dtype: int64"
      ]
     },
     "execution_count": 101,
     "metadata": {},
     "output_type": "execute_result"
    }
   ],
   "source": [
    "df['GPA'].apply(gpa).value_counts()"
   ]
  },
  {
   "cell_type": "code",
   "execution_count": 102,
   "metadata": {},
   "outputs": [
    {
     "data": {
      "text/plain": [
       "Education_level\n",
       "level_0    0.428750\n",
       "level_1    4.942865\n",
       "level_2    2.011250\n",
       "level_3    2.703884\n",
       "level_4    3.017061\n",
       "level_5    8.786406\n",
       "Name: GPA, dtype: float64"
      ]
     },
     "execution_count": 102,
     "metadata": {},
     "output_type": "execute_result"
    }
   ],
   "source": [
    "df.groupby(['Education_level'])['GPA'].mean()"
   ]
  },
  {
   "cell_type": "markdown",
   "metadata": {},
   "source": [
    "# Job Level"
   ]
  },
  {
   "cell_type": "code",
   "execution_count": 48,
   "metadata": {},
   "outputs": [
    {
     "data": {
      "text/plain": [
       "JG04    19158\n",
       "JG03     1990\n",
       "JG05      850\n",
       "JG06        7\n",
       "Name: job_level, dtype: int64"
      ]
     },
     "execution_count": 48,
     "metadata": {},
     "output_type": "execute_result"
    }
   ],
   "source": [
    "df['job_level'].value_counts()"
   ]
  },
  {
   "cell_type": "code",
   "execution_count": 105,
   "metadata": {},
   "outputs": [
    {
     "data": {
      "text/plain": [
       "job_level  Best Performance\n",
       "JG03       0                   0.993467\n",
       "           1                   0.006533\n",
       "JG04       0                   0.868097\n",
       "           1                   0.131903\n",
       "JG05       0                   0.849412\n",
       "           1                   0.150588\n",
       "JG06       0                   1.000000\n",
       "Name: Best Performance, dtype: float64"
      ]
     },
     "execution_count": 105,
     "metadata": {},
     "output_type": "execute_result"
    }
   ],
   "source": [
    "df.groupby(['job_level'])['Best Performance'].value_counts(normalize=True)"
   ]
  },
  {
   "cell_type": "markdown",
   "metadata": {},
   "source": [
    "# Person Level"
   ]
  },
  {
   "cell_type": "code",
   "execution_count": 49,
   "metadata": {},
   "outputs": [
    {
     "data": {
      "text/plain": [
       "PG03    18342\n",
       "PG01     1946\n",
       "PG04      807\n",
       "PG06      478\n",
       "PG05      364\n",
       "PG02       41\n",
       "PG07       24\n",
       "PG08        3\n",
       "Name: person_level, dtype: int64"
      ]
     },
     "execution_count": 49,
     "metadata": {},
     "output_type": "execute_result"
    }
   ],
   "source": [
    "df['person_level'].value_counts()"
   ]
  },
  {
   "cell_type": "code",
   "execution_count": 54,
   "metadata": {},
   "outputs": [
    {
     "data": {
      "text/plain": [
       "0"
      ]
     },
     "execution_count": 54,
     "metadata": {},
     "output_type": "execute_result"
    }
   ],
   "source": [
    "df['person_level'].isnull().sum()"
   ]
  },
  {
   "cell_type": "code",
   "execution_count": 104,
   "metadata": {},
   "outputs": [
    {
     "data": {
      "text/plain": [
       "person_level  Best Performance\n",
       "PG01          0                   0.995375\n",
       "              1                   0.004625\n",
       "PG02          0                   0.902439\n",
       "              1                   0.097561\n",
       "PG03          0                   0.868771\n",
       "              1                   0.131229\n",
       "PG04          0                   0.852540\n",
       "              1                   0.147460\n",
       "PG05          0                   0.873626\n",
       "              1                   0.126374\n",
       "PG06          0                   0.836820\n",
       "              1                   0.163180\n",
       "PG07          0                   0.833333\n",
       "              1                   0.166667\n",
       "PG08          0                   0.666667\n",
       "              1                   0.333333\n",
       "Name: Best Performance, dtype: float64"
      ]
     },
     "execution_count": 104,
     "metadata": {},
     "output_type": "execute_result"
    }
   ],
   "source": [
    "df.groupby(['person_level'])['Best Performance'].value_counts(normalize=True)"
   ]
  },
  {
   "cell_type": "markdown",
   "metadata": {},
   "source": [
    "# Education Level"
   ]
  },
  {
   "cell_type": "code",
   "execution_count": 53,
   "metadata": {},
   "outputs": [
    {
     "data": {
      "text/plain": [
       "level_4    15313\n",
       "level_3     2804\n",
       "level_1      192\n",
       "level_5       64\n",
       "level_0       16\n",
       "level_2        8\n",
       "Name: Education_level, dtype: int64"
      ]
     },
     "execution_count": 53,
     "metadata": {},
     "output_type": "execute_result"
    }
   ],
   "source": [
    "df['Education_level'].value_counts()"
   ]
  },
  {
   "cell_type": "code",
   "execution_count": 55,
   "metadata": {},
   "outputs": [
    {
     "data": {
      "text/plain": [
       "3608"
      ]
     },
     "execution_count": 55,
     "metadata": {},
     "output_type": "execute_result"
    }
   ],
   "source": [
    "df['Education_level'].isnull().sum()"
   ]
  },
  {
   "cell_type": "code",
   "execution_count": 103,
   "metadata": {},
   "outputs": [
    {
     "data": {
      "text/plain": [
       "Education_level  Best Performance\n",
       "level_0          0                   0.937500\n",
       "                 1                   0.062500\n",
       "level_1          0                   0.822917\n",
       "                 1                   0.177083\n",
       "level_2          0                   1.000000\n",
       "level_3          0                   0.884807\n",
       "                 1                   0.115193\n",
       "level_4          0                   0.885914\n",
       "                 1                   0.114086\n",
       "level_5          0                   0.843750\n",
       "                 1                   0.156250\n",
       "Name: Best Performance, dtype: float64"
      ]
     },
     "execution_count": 103,
     "metadata": {},
     "output_type": "execute_result"
    }
   ],
   "source": [
    "df.groupby(['Education_level'])['Best Performance'].value_counts(normalize=True)"
   ]
  },
  {
   "cell_type": "code",
   "execution_count": null,
   "metadata": {},
   "outputs": [],
   "source": [
    " "
   ]
  }
 ],
 "metadata": {
  "kernelspec": {
   "display_name": "Python 3",
   "language": "python",
   "name": "python3"
  },
  "language_info": {
   "codemirror_mode": {
    "name": "ipython",
    "version": 3
   },
   "file_extension": ".py",
   "mimetype": "text/x-python",
   "name": "python",
   "nbconvert_exporter": "python",
   "pygments_lexer": "ipython3",
   "version": "3.8.3"
  }
 },
 "nbformat": 4,
 "nbformat_minor": 4
}
