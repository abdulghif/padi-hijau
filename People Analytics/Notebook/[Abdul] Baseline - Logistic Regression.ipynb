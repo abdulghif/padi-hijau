{
 "cells": [
  {
   "cell_type": "markdown",
   "metadata": {},
   "source": [
    "# Importing Library"
   ]
  },
  {
   "cell_type": "code",
   "execution_count": 1,
   "metadata": {},
   "outputs": [],
   "source": [
    "from zipfile import ZipFile\n",
    "import pandas as pd"
   ]
  },
  {
   "cell_type": "markdown",
   "metadata": {},
   "source": [
    "# Read Dataset"
   ]
  },
  {
   "cell_type": "code",
   "execution_count": 2,
   "metadata": {},
   "outputs": [
    {
     "name": "stdout",
     "output_type": "stream",
     "text": [
      "File Name                                             Modified             Size\n",
      "sample_submission.csv                          2020-11-30 06:59:32        40913\n",
      "test.csv                                       2020-11-30 06:59:32       969444\n",
      "train.csv                                      2020-11-30 06:59:32      3147443\n",
      "None\n"
     ]
    }
   ],
   "source": [
    "# specifying the zip file name \n",
    "file_name = \"bri-data-hackathon-people-analytic.zip\"\n",
    "  \n",
    "# opening the zip file in READ mode \n",
    "with ZipFile(file_name, 'r') as zip: \n",
    "    print(zip.printdir())\n",
    "    sample_submission = pd.read_csv(zip.open('sample_submission.csv'))\n",
    "    test = pd.read_csv(zip.open('test.csv'))\n",
    "    train = pd.read_csv(zip.open('train.csv'))"
   ]
  },
  {
   "cell_type": "markdown",
   "metadata": {},
   "source": [
    "# EDA"
   ]
  },
  {
   "cell_type": "code",
   "execution_count": 3,
   "metadata": {},
   "outputs": [
    {
     "name": "stdout",
     "output_type": "stream",
     "text": [
      "(22005, 30)\n"
     ]
    },
    {
     "data": {
      "text/html": [
       "<div>\n",
       "<style scoped>\n",
       "    .dataframe tbody tr th:only-of-type {\n",
       "        vertical-align: middle;\n",
       "    }\n",
       "\n",
       "    .dataframe tbody tr th {\n",
       "        vertical-align: top;\n",
       "    }\n",
       "\n",
       "    .dataframe thead th {\n",
       "        text-align: right;\n",
       "    }\n",
       "</style>\n",
       "<table border=\"1\" class=\"dataframe\">\n",
       "  <thead>\n",
       "    <tr style=\"text-align: right;\">\n",
       "      <th></th>\n",
       "      <th>job_level</th>\n",
       "      <th>job_duration_in_current_job_level</th>\n",
       "      <th>person_level</th>\n",
       "      <th>job_duration_in_current_person_level</th>\n",
       "      <th>job_duration_in_current_branch</th>\n",
       "      <th>Employee_type</th>\n",
       "      <th>Employee_status</th>\n",
       "      <th>gender</th>\n",
       "      <th>age</th>\n",
       "      <th>marital_status_maried(Y/N)</th>\n",
       "      <th>...</th>\n",
       "      <th>assign_of_otherposition</th>\n",
       "      <th>annual leave</th>\n",
       "      <th>sick_leaves</th>\n",
       "      <th>Best Performance</th>\n",
       "      <th>Avg_achievement_%</th>\n",
       "      <th>Last_achievement_%</th>\n",
       "      <th>Achievement_above_100%_during3quartal</th>\n",
       "      <th>achievement_target_1</th>\n",
       "      <th>achievement_target_2</th>\n",
       "      <th>achievement_target_3</th>\n",
       "    </tr>\n",
       "  </thead>\n",
       "  <tbody>\n",
       "    <tr>\n",
       "      <th>0</th>\n",
       "      <td>JG05</td>\n",
       "      <td>8.00</td>\n",
       "      <td>PG06</td>\n",
       "      <td>8.00</td>\n",
       "      <td>0.50</td>\n",
       "      <td>RM_type_A</td>\n",
       "      <td>Permanent</td>\n",
       "      <td>Female</td>\n",
       "      <td>1964</td>\n",
       "      <td>Y</td>\n",
       "      <td>...</td>\n",
       "      <td>0</td>\n",
       "      <td>8</td>\n",
       "      <td>0</td>\n",
       "      <td>0</td>\n",
       "      <td>68.85</td>\n",
       "      <td>72.53</td>\n",
       "      <td>0.0</td>\n",
       "      <td>achiev_50%-100%</td>\n",
       "      <td>achiev_&lt; 50%</td>\n",
       "      <td>reached</td>\n",
       "    </tr>\n",
       "    <tr>\n",
       "      <th>1</th>\n",
       "      <td>JG04</td>\n",
       "      <td>5.17</td>\n",
       "      <td>PG04</td>\n",
       "      <td>2.00</td>\n",
       "      <td>1.25</td>\n",
       "      <td>RM_type_A</td>\n",
       "      <td>Permanent</td>\n",
       "      <td>Male</td>\n",
       "      <td>1979</td>\n",
       "      <td>Y</td>\n",
       "      <td>...</td>\n",
       "      <td>9</td>\n",
       "      <td>3</td>\n",
       "      <td>0</td>\n",
       "      <td>0</td>\n",
       "      <td>94.81</td>\n",
       "      <td>101.13</td>\n",
       "      <td>3.0</td>\n",
       "      <td>achiev_50%-100%</td>\n",
       "      <td>achiev_50%-100%</td>\n",
       "      <td>reached</td>\n",
       "    </tr>\n",
       "    <tr>\n",
       "      <th>2</th>\n",
       "      <td>JG04</td>\n",
       "      <td>1.83</td>\n",
       "      <td>PG03</td>\n",
       "      <td>1.83</td>\n",
       "      <td>1.50</td>\n",
       "      <td>RM_type_A</td>\n",
       "      <td>Permanent</td>\n",
       "      <td>Male</td>\n",
       "      <td>1980</td>\n",
       "      <td>Y</td>\n",
       "      <td>...</td>\n",
       "      <td>0</td>\n",
       "      <td>6</td>\n",
       "      <td>0</td>\n",
       "      <td>0</td>\n",
       "      <td>72.82</td>\n",
       "      <td>71.30</td>\n",
       "      <td>0.0</td>\n",
       "      <td>achiev_100%-150%</td>\n",
       "      <td>achiev_&lt; 50%</td>\n",
       "      <td>not_reached</td>\n",
       "    </tr>\n",
       "    <tr>\n",
       "      <th>3</th>\n",
       "      <td>JG04</td>\n",
       "      <td>7.92</td>\n",
       "      <td>PG04</td>\n",
       "      <td>4.00</td>\n",
       "      <td>0.17</td>\n",
       "      <td>RM_type_A</td>\n",
       "      <td>Permanent</td>\n",
       "      <td>Male</td>\n",
       "      <td>1984</td>\n",
       "      <td>Y</td>\n",
       "      <td>...</td>\n",
       "      <td>0</td>\n",
       "      <td>3</td>\n",
       "      <td>0</td>\n",
       "      <td>0</td>\n",
       "      <td>86.89</td>\n",
       "      <td>90.09</td>\n",
       "      <td>2.0</td>\n",
       "      <td>achiev_50%-100%</td>\n",
       "      <td>achiev_50%-100%</td>\n",
       "      <td>not_reached</td>\n",
       "    </tr>\n",
       "    <tr>\n",
       "      <th>4</th>\n",
       "      <td>JG04</td>\n",
       "      <td>1.83</td>\n",
       "      <td>PG03</td>\n",
       "      <td>1.83</td>\n",
       "      <td>2.08</td>\n",
       "      <td>RM_type_A</td>\n",
       "      <td>Permanent</td>\n",
       "      <td>Male</td>\n",
       "      <td>1984</td>\n",
       "      <td>Y</td>\n",
       "      <td>...</td>\n",
       "      <td>11</td>\n",
       "      <td>2</td>\n",
       "      <td>1</td>\n",
       "      <td>1</td>\n",
       "      <td>95.17</td>\n",
       "      <td>100.72</td>\n",
       "      <td>2.0</td>\n",
       "      <td>achiev_&lt; 50%</td>\n",
       "      <td>achiev_&gt; 1.5</td>\n",
       "      <td>not_reached</td>\n",
       "    </tr>\n",
       "  </tbody>\n",
       "</table>\n",
       "<p>5 rows × 30 columns</p>\n",
       "</div>"
      ],
      "text/plain": [
       "  job_level  job_duration_in_current_job_level person_level  \\\n",
       "0      JG05                               8.00         PG06   \n",
       "1      JG04                               5.17         PG04   \n",
       "2      JG04                               1.83         PG03   \n",
       "3      JG04                               7.92         PG04   \n",
       "4      JG04                               1.83         PG03   \n",
       "\n",
       "   job_duration_in_current_person_level  job_duration_in_current_branch  \\\n",
       "0                                  8.00                            0.50   \n",
       "1                                  2.00                            1.25   \n",
       "2                                  1.83                            1.50   \n",
       "3                                  4.00                            0.17   \n",
       "4                                  1.83                            2.08   \n",
       "\n",
       "  Employee_type Employee_status  gender   age marital_status_maried(Y/N)  ...  \\\n",
       "0     RM_type_A       Permanent  Female  1964                          Y  ...   \n",
       "1     RM_type_A       Permanent    Male  1979                          Y  ...   \n",
       "2     RM_type_A       Permanent    Male  1980                          Y  ...   \n",
       "3     RM_type_A       Permanent    Male  1984                          Y  ...   \n",
       "4     RM_type_A       Permanent    Male  1984                          Y  ...   \n",
       "\n",
       "   assign_of_otherposition  annual leave  sick_leaves Best Performance  \\\n",
       "0                        0             8            0                0   \n",
       "1                        9             3            0                0   \n",
       "2                        0             6            0                0   \n",
       "3                        0             3            0                0   \n",
       "4                       11             2            1                1   \n",
       "\n",
       "   Avg_achievement_% Last_achievement_%  \\\n",
       "0              68.85              72.53   \n",
       "1              94.81             101.13   \n",
       "2              72.82              71.30   \n",
       "3              86.89              90.09   \n",
       "4              95.17             100.72   \n",
       "\n",
       "   Achievement_above_100%_during3quartal  achievement_target_1  \\\n",
       "0                                    0.0       achiev_50%-100%   \n",
       "1                                    3.0       achiev_50%-100%   \n",
       "2                                    0.0      achiev_100%-150%   \n",
       "3                                    2.0       achiev_50%-100%   \n",
       "4                                    2.0          achiev_< 50%   \n",
       "\n",
       "   achievement_target_2  achievement_target_3  \n",
       "0          achiev_< 50%               reached  \n",
       "1       achiev_50%-100%               reached  \n",
       "2          achiev_< 50%           not_reached  \n",
       "3       achiev_50%-100%           not_reached  \n",
       "4          achiev_> 1.5           not_reached  \n",
       "\n",
       "[5 rows x 30 columns]"
      ]
     },
     "execution_count": 3,
     "metadata": {},
     "output_type": "execute_result"
    }
   ],
   "source": [
    "print(train.shape)\n",
    "train.head()"
   ]
  },
  {
   "cell_type": "code",
   "execution_count": 4,
   "metadata": {},
   "outputs": [
    {
     "name": "stdout",
     "output_type": "stream",
     "text": [
      "(6000, 29)\n"
     ]
    },
    {
     "data": {
      "text/html": [
       "<div>\n",
       "<style scoped>\n",
       "    .dataframe tbody tr th:only-of-type {\n",
       "        vertical-align: middle;\n",
       "    }\n",
       "\n",
       "    .dataframe tbody tr th {\n",
       "        vertical-align: top;\n",
       "    }\n",
       "\n",
       "    .dataframe thead th {\n",
       "        text-align: right;\n",
       "    }\n",
       "</style>\n",
       "<table border=\"1\" class=\"dataframe\">\n",
       "  <thead>\n",
       "    <tr style=\"text-align: right;\">\n",
       "      <th></th>\n",
       "      <th>job_level</th>\n",
       "      <th>job_duration_in_current_job_level</th>\n",
       "      <th>person_level</th>\n",
       "      <th>job_duration_in_current_person_level</th>\n",
       "      <th>job_duration_in_current_branch</th>\n",
       "      <th>Employee_type</th>\n",
       "      <th>Employee_status</th>\n",
       "      <th>gender</th>\n",
       "      <th>age</th>\n",
       "      <th>marital_status_maried(Y/N)</th>\n",
       "      <th>...</th>\n",
       "      <th>job_rotation</th>\n",
       "      <th>assign_of_otherposition</th>\n",
       "      <th>annual leave</th>\n",
       "      <th>sick_leaves</th>\n",
       "      <th>Avg_achievement_%</th>\n",
       "      <th>Last_achievement_%</th>\n",
       "      <th>Achievement_above_100%_during3quartal</th>\n",
       "      <th>achievement_target_1</th>\n",
       "      <th>achievement_target_2</th>\n",
       "      <th>achievement_target_3</th>\n",
       "    </tr>\n",
       "  </thead>\n",
       "  <tbody>\n",
       "    <tr>\n",
       "      <th>0</th>\n",
       "      <td>JG05</td>\n",
       "      <td>1.42</td>\n",
       "      <td>PG05</td>\n",
       "      <td>1.42</td>\n",
       "      <td>0.5</td>\n",
       "      <td>RM_type_C</td>\n",
       "      <td>Permanent</td>\n",
       "      <td>Female</td>\n",
       "      <td>1983</td>\n",
       "      <td>Y</td>\n",
       "      <td>...</td>\n",
       "      <td>9</td>\n",
       "      <td>1</td>\n",
       "      <td>3</td>\n",
       "      <td>1</td>\n",
       "      <td>79.506667</td>\n",
       "      <td>94.17</td>\n",
       "      <td>1.0</td>\n",
       "      <td>achiev_50%-100%</td>\n",
       "      <td>achiev_&lt; 50%</td>\n",
       "      <td>reached</td>\n",
       "    </tr>\n",
       "    <tr>\n",
       "      <th>1</th>\n",
       "      <td>JG04</td>\n",
       "      <td>1.58</td>\n",
       "      <td>PG03</td>\n",
       "      <td>1.58</td>\n",
       "      <td>2.0</td>\n",
       "      <td>RM_type_A</td>\n",
       "      <td>Permanent</td>\n",
       "      <td>Male</td>\n",
       "      <td>1988</td>\n",
       "      <td>N</td>\n",
       "      <td>...</td>\n",
       "      <td>2</td>\n",
       "      <td>2</td>\n",
       "      <td>4</td>\n",
       "      <td>1</td>\n",
       "      <td>54.283333</td>\n",
       "      <td>42.97</td>\n",
       "      <td>0.0</td>\n",
       "      <td>Pencapaian &lt; 50%</td>\n",
       "      <td>Pencapaian &lt; 50%</td>\n",
       "      <td>reached</td>\n",
       "    </tr>\n",
       "    <tr>\n",
       "      <th>2</th>\n",
       "      <td>JG04</td>\n",
       "      <td>1.83</td>\n",
       "      <td>PG03</td>\n",
       "      <td>1.83</td>\n",
       "      <td>1.5</td>\n",
       "      <td>RM_type_A</td>\n",
       "      <td>Permanent</td>\n",
       "      <td>Male</td>\n",
       "      <td>1988</td>\n",
       "      <td>Y</td>\n",
       "      <td>...</td>\n",
       "      <td>2</td>\n",
       "      <td>0</td>\n",
       "      <td>2</td>\n",
       "      <td>0</td>\n",
       "      <td>43.016667</td>\n",
       "      <td>44.28</td>\n",
       "      <td>0.0</td>\n",
       "      <td>achiev_50%-100%</td>\n",
       "      <td>achiev_&lt; 50%</td>\n",
       "      <td>reached</td>\n",
       "    </tr>\n",
       "    <tr>\n",
       "      <th>3</th>\n",
       "      <td>JG05</td>\n",
       "      <td>8.00</td>\n",
       "      <td>PG06</td>\n",
       "      <td>5.00</td>\n",
       "      <td>1.5</td>\n",
       "      <td>RM_type_A</td>\n",
       "      <td>Permanent</td>\n",
       "      <td>Male</td>\n",
       "      <td>1973</td>\n",
       "      <td>Y</td>\n",
       "      <td>...</td>\n",
       "      <td>5</td>\n",
       "      <td>11</td>\n",
       "      <td>3</td>\n",
       "      <td>0</td>\n",
       "      <td>74.390000</td>\n",
       "      <td>80.93</td>\n",
       "      <td>0.0</td>\n",
       "      <td>Pencapaian 50%-100%</td>\n",
       "      <td>Pencapaian &lt; 50%</td>\n",
       "      <td>not reached</td>\n",
       "    </tr>\n",
       "    <tr>\n",
       "      <th>4</th>\n",
       "      <td>JG04</td>\n",
       "      <td>1.92</td>\n",
       "      <td>PG03</td>\n",
       "      <td>1.92</td>\n",
       "      <td>0.5</td>\n",
       "      <td>RM_type_A</td>\n",
       "      <td>Permanent</td>\n",
       "      <td>Female</td>\n",
       "      <td>1985</td>\n",
       "      <td>Y</td>\n",
       "      <td>...</td>\n",
       "      <td>3</td>\n",
       "      <td>0</td>\n",
       "      <td>3</td>\n",
       "      <td>0</td>\n",
       "      <td>106.376667</td>\n",
       "      <td>109.09</td>\n",
       "      <td>3.0</td>\n",
       "      <td>Pencapaian 50%-100%</td>\n",
       "      <td>Pencapaian &gt; 1.5</td>\n",
       "      <td>reached</td>\n",
       "    </tr>\n",
       "  </tbody>\n",
       "</table>\n",
       "<p>5 rows × 29 columns</p>\n",
       "</div>"
      ],
      "text/plain": [
       "  job_level  job_duration_in_current_job_level person_level  \\\n",
       "0      JG05                               1.42         PG05   \n",
       "1      JG04                               1.58         PG03   \n",
       "2      JG04                               1.83         PG03   \n",
       "3      JG05                               8.00         PG06   \n",
       "4      JG04                               1.92         PG03   \n",
       "\n",
       "   job_duration_in_current_person_level  job_duration_in_current_branch  \\\n",
       "0                                  1.42                             0.5   \n",
       "1                                  1.58                             2.0   \n",
       "2                                  1.83                             1.5   \n",
       "3                                  5.00                             1.5   \n",
       "4                                  1.92                             0.5   \n",
       "\n",
       "  Employee_type Employee_status  gender   age marital_status_maried(Y/N)  ...  \\\n",
       "0     RM_type_C       Permanent  Female  1983                          Y  ...   \n",
       "1     RM_type_A       Permanent    Male  1988                          N  ...   \n",
       "2     RM_type_A       Permanent    Male  1988                          Y  ...   \n",
       "3     RM_type_A       Permanent    Male  1973                          Y  ...   \n",
       "4     RM_type_A       Permanent  Female  1985                          Y  ...   \n",
       "\n",
       "   job_rotation  assign_of_otherposition  annual leave sick_leaves  \\\n",
       "0             9                        1             3           1   \n",
       "1             2                        2             4           1   \n",
       "2             2                        0             2           0   \n",
       "3             5                       11             3           0   \n",
       "4             3                        0             3           0   \n",
       "\n",
       "   Avg_achievement_% Last_achievement_%  \\\n",
       "0          79.506667              94.17   \n",
       "1          54.283333              42.97   \n",
       "2          43.016667              44.28   \n",
       "3          74.390000              80.93   \n",
       "4         106.376667             109.09   \n",
       "\n",
       "   Achievement_above_100%_during3quartal  achievement_target_1  \\\n",
       "0                                    1.0       achiev_50%-100%   \n",
       "1                                    0.0      Pencapaian < 50%   \n",
       "2                                    0.0       achiev_50%-100%   \n",
       "3                                    0.0   Pencapaian 50%-100%   \n",
       "4                                    3.0   Pencapaian 50%-100%   \n",
       "\n",
       "   achievement_target_2  achievement_target_3  \n",
       "0          achiev_< 50%               reached  \n",
       "1      Pencapaian < 50%               reached  \n",
       "2          achiev_< 50%               reached  \n",
       "3      Pencapaian < 50%           not reached  \n",
       "4      Pencapaian > 1.5               reached  \n",
       "\n",
       "[5 rows x 29 columns]"
      ]
     },
     "execution_count": 4,
     "metadata": {},
     "output_type": "execute_result"
    }
   ],
   "source": [
    "print(test.shape)\n",
    "test.head()"
   ]
  },
  {
   "cell_type": "code",
   "execution_count": 5,
   "metadata": {
    "scrolled": true
   },
   "outputs": [
    {
     "data": {
      "text/plain": [
       "0    19337\n",
       "1     2668\n",
       "Name: Best Performance, dtype: int64"
      ]
     },
     "execution_count": 5,
     "metadata": {},
     "output_type": "execute_result"
    }
   ],
   "source": [
    "train['Best Performance'].value_counts()"
   ]
  },
  {
   "cell_type": "code",
   "execution_count": 6,
   "metadata": {},
   "outputs": [
    {
     "data": {
      "text/plain": [
       "0    0.878755\n",
       "1    0.121245\n",
       "Name: Best Performance, dtype: float64"
      ]
     },
     "execution_count": 6,
     "metadata": {},
     "output_type": "execute_result"
    }
   ],
   "source": [
    "train['Best Performance'].value_counts(normalize=True)"
   ]
  },
  {
   "cell_type": "markdown",
   "metadata": {},
   "source": [
    "# Baseline"
   ]
  },
  {
   "cell_type": "code",
   "execution_count": 7,
   "metadata": {},
   "outputs": [],
   "source": [
    "train_copy = train.copy()\n",
    "train_copy.drop(['Best Performance'],axis = 1,inplace = True)\n",
    "train_copy = train_copy.select_dtypes('number')\n",
    "train_copy.fillna(0,inplace=True)"
   ]
  },
  {
   "cell_type": "code",
   "execution_count": 8,
   "metadata": {},
   "outputs": [],
   "source": [
    "X ,y = [train_copy,train['Best Performance']]"
   ]
  },
  {
   "cell_type": "code",
   "execution_count": 9,
   "metadata": {},
   "outputs": [],
   "source": [
    "from sklearn.model_selection import train_test_split\n",
    "X_train,X_test,y_train,y_test = train_test_split(X,y,test_size = 0.3,stratify = y, random_state = 123)"
   ]
  },
  {
   "cell_type": "code",
   "execution_count": 36,
   "metadata": {},
   "outputs": [
    {
     "data": {
      "text/plain": [
       "DecisionTreeClassifier()"
      ]
     },
     "execution_count": 36,
     "metadata": {},
     "output_type": "execute_result"
    }
   ],
   "source": [
    "from sklearn.tree import DecisionTreeClassifier\n",
    "model = DecisionTreeClassifier()\n",
    "model.fit(X_train,y_train)"
   ]
  },
  {
   "cell_type": "code",
   "execution_count": 37,
   "metadata": {},
   "outputs": [],
   "source": [
    "y_pred = model.predict_proba(X_test)"
   ]
  },
  {
   "cell_type": "code",
   "execution_count": 38,
   "metadata": {},
   "outputs": [
    {
     "data": {
      "text/plain": [
       "0.5280511030679076"
      ]
     },
     "execution_count": 38,
     "metadata": {},
     "output_type": "execute_result"
    }
   ],
   "source": [
    "from sklearn.metrics import roc_auc_score\n",
    "roc_auc_score(y_test,y_pred[:,1])"
   ]
  },
  {
   "cell_type": "code",
   "execution_count": 39,
   "metadata": {},
   "outputs": [],
   "source": [
    "y_pred_binary = model.predict(X_test)"
   ]
  },
  {
   "cell_type": "code",
   "execution_count": 40,
   "metadata": {},
   "outputs": [
    {
     "data": {
      "text/plain": [
       "0.7853680702817328"
      ]
     },
     "execution_count": 40,
     "metadata": {},
     "output_type": "execute_result"
    }
   ],
   "source": [
    "model.score(X_test,y_test)"
   ]
  },
  {
   "cell_type": "code",
   "execution_count": 41,
   "metadata": {},
   "outputs": [
    {
     "name": "stdout",
     "output_type": "stream",
     "text": [
      "              precision    recall  f1-score   support\n",
      "\n",
      "           0       0.89      0.87      0.88      5802\n",
      "           1       0.16      0.19      0.18       800\n",
      "\n",
      "    accuracy                           0.79      6602\n",
      "   macro avg       0.53      0.53      0.53      6602\n",
      "weighted avg       0.80      0.79      0.79      6602\n",
      "\n"
     ]
    }
   ],
   "source": [
    "from sklearn.metrics import classification_report\n",
    "print(classification_report(y_test,y_pred_binary))"
   ]
  },
  {
   "cell_type": "code",
   "execution_count": 42,
   "metadata": {},
   "outputs": [],
   "source": [
    "test_copy = test.copy()\n",
    "# train_copy.drop(['Best Performance'],axis = 1,inplace = True)\n",
    "test_copy = test_copy.select_dtypes('number')\n",
    "test_copy.fillna(0,inplace=True)"
   ]
  },
  {
   "cell_type": "code",
   "execution_count": 43,
   "metadata": {},
   "outputs": [
    {
     "data": {
      "text/html": [
       "<div>\n",
       "<style scoped>\n",
       "    .dataframe tbody tr th:only-of-type {\n",
       "        vertical-align: middle;\n",
       "    }\n",
       "\n",
       "    .dataframe tbody tr th {\n",
       "        vertical-align: top;\n",
       "    }\n",
       "\n",
       "    .dataframe thead th {\n",
       "        text-align: right;\n",
       "    }\n",
       "</style>\n",
       "<table border=\"1\" class=\"dataframe\">\n",
       "  <thead>\n",
       "    <tr style=\"text-align: right;\">\n",
       "      <th></th>\n",
       "      <th>index</th>\n",
       "      <th>Best Performance</th>\n",
       "    </tr>\n",
       "  </thead>\n",
       "  <tbody>\n",
       "    <tr>\n",
       "      <th>0</th>\n",
       "      <td>0</td>\n",
       "      <td>0</td>\n",
       "    </tr>\n",
       "    <tr>\n",
       "      <th>1</th>\n",
       "      <td>1</td>\n",
       "      <td>0</td>\n",
       "    </tr>\n",
       "    <tr>\n",
       "      <th>2</th>\n",
       "      <td>2</td>\n",
       "      <td>0</td>\n",
       "    </tr>\n",
       "    <tr>\n",
       "      <th>3</th>\n",
       "      <td>3</td>\n",
       "      <td>0</td>\n",
       "    </tr>\n",
       "    <tr>\n",
       "      <th>4</th>\n",
       "      <td>4</td>\n",
       "      <td>0</td>\n",
       "    </tr>\n",
       "    <tr>\n",
       "      <th>...</th>\n",
       "      <td>...</td>\n",
       "      <td>...</td>\n",
       "    </tr>\n",
       "    <tr>\n",
       "      <th>5995</th>\n",
       "      <td>5995</td>\n",
       "      <td>0</td>\n",
       "    </tr>\n",
       "    <tr>\n",
       "      <th>5996</th>\n",
       "      <td>5996</td>\n",
       "      <td>0</td>\n",
       "    </tr>\n",
       "    <tr>\n",
       "      <th>5997</th>\n",
       "      <td>5997</td>\n",
       "      <td>0</td>\n",
       "    </tr>\n",
       "    <tr>\n",
       "      <th>5998</th>\n",
       "      <td>5998</td>\n",
       "      <td>0</td>\n",
       "    </tr>\n",
       "    <tr>\n",
       "      <th>5999</th>\n",
       "      <td>5999</td>\n",
       "      <td>0</td>\n",
       "    </tr>\n",
       "  </tbody>\n",
       "</table>\n",
       "<p>6000 rows × 2 columns</p>\n",
       "</div>"
      ],
      "text/plain": [
       "      index  Best Performance\n",
       "0         0                 0\n",
       "1         1                 0\n",
       "2         2                 0\n",
       "3         3                 0\n",
       "4         4                 0\n",
       "...     ...               ...\n",
       "5995   5995                 0\n",
       "5996   5996                 0\n",
       "5997   5997                 0\n",
       "5998   5998                 0\n",
       "5999   5999                 0\n",
       "\n",
       "[6000 rows x 2 columns]"
      ]
     },
     "execution_count": 43,
     "metadata": {},
     "output_type": "execute_result"
    }
   ],
   "source": [
    "sample_submission"
   ]
  },
  {
   "cell_type": "code",
   "execution_count": 51,
   "metadata": {
    "scrolled": true
   },
   "outputs": [],
   "source": [
    "def submission(model,test):\n",
    "    return pd.DataFrame(model.predict_proba(test_copy)[:,1],\n",
    "                        columns=['Best Performance']).reset_index()"
   ]
  },
  {
   "cell_type": "code",
   "execution_count": 52,
   "metadata": {},
   "outputs": [],
   "source": [
    "df_submission = submission(model,test_copy)\n",
    "df_submission.to_csv('Baseline - Decision Tree.csv',index=False)"
   ]
  },
  {
   "cell_type": "code",
   "execution_count": 53,
   "metadata": {},
   "outputs": [
    {
     "data": {
      "text/plain": [
       "0.0    5038\n",
       "1.0     962\n",
       "Name: Best Performance, dtype: int64"
      ]
     },
     "execution_count": 53,
     "metadata": {},
     "output_type": "execute_result"
    }
   ],
   "source": [
    "df_submission['Best Performance'].value_counts()"
   ]
  },
  {
   "cell_type": "code",
   "execution_count": 50,
   "metadata": {},
   "outputs": [
    {
     "data": {
      "text/html": [
       "<div>\n",
       "<style scoped>\n",
       "    .dataframe tbody tr th:only-of-type {\n",
       "        vertical-align: middle;\n",
       "    }\n",
       "\n",
       "    .dataframe tbody tr th {\n",
       "        vertical-align: top;\n",
       "    }\n",
       "\n",
       "    .dataframe thead th {\n",
       "        text-align: right;\n",
       "    }\n",
       "</style>\n",
       "<table border=\"1\" class=\"dataframe\">\n",
       "  <thead>\n",
       "    <tr style=\"text-align: right;\">\n",
       "      <th></th>\n",
       "      <th>index</th>\n",
       "      <th>Best Performance</th>\n",
       "    </tr>\n",
       "  </thead>\n",
       "  <tbody>\n",
       "    <tr>\n",
       "      <th>0</th>\n",
       "      <td>0</td>\n",
       "      <td>0.0</td>\n",
       "    </tr>\n",
       "    <tr>\n",
       "      <th>1</th>\n",
       "      <td>1</td>\n",
       "      <td>0.0</td>\n",
       "    </tr>\n",
       "    <tr>\n",
       "      <th>2</th>\n",
       "      <td>2</td>\n",
       "      <td>0.0</td>\n",
       "    </tr>\n",
       "    <tr>\n",
       "      <th>3</th>\n",
       "      <td>3</td>\n",
       "      <td>0.0</td>\n",
       "    </tr>\n",
       "    <tr>\n",
       "      <th>4</th>\n",
       "      <td>4</td>\n",
       "      <td>0.0</td>\n",
       "    </tr>\n",
       "    <tr>\n",
       "      <th>...</th>\n",
       "      <td>...</td>\n",
       "      <td>...</td>\n",
       "    </tr>\n",
       "    <tr>\n",
       "      <th>5995</th>\n",
       "      <td>5995</td>\n",
       "      <td>0.0</td>\n",
       "    </tr>\n",
       "    <tr>\n",
       "      <th>5996</th>\n",
       "      <td>5996</td>\n",
       "      <td>0.0</td>\n",
       "    </tr>\n",
       "    <tr>\n",
       "      <th>5997</th>\n",
       "      <td>5997</td>\n",
       "      <td>0.0</td>\n",
       "    </tr>\n",
       "    <tr>\n",
       "      <th>5998</th>\n",
       "      <td>5998</td>\n",
       "      <td>0.0</td>\n",
       "    </tr>\n",
       "    <tr>\n",
       "      <th>5999</th>\n",
       "      <td>5999</td>\n",
       "      <td>0.0</td>\n",
       "    </tr>\n",
       "  </tbody>\n",
       "</table>\n",
       "<p>6000 rows × 2 columns</p>\n",
       "</div>"
      ],
      "text/plain": [
       "      index  Best Performance\n",
       "0         0               0.0\n",
       "1         1               0.0\n",
       "2         2               0.0\n",
       "3         3               0.0\n",
       "4         4               0.0\n",
       "...     ...               ...\n",
       "5995   5995               0.0\n",
       "5996   5996               0.0\n",
       "5997   5997               0.0\n",
       "5998   5998               0.0\n",
       "5999   5999               0.0\n",
       "\n",
       "[6000 rows x 2 columns]"
      ]
     },
     "execution_count": 50,
     "metadata": {},
     "output_type": "execute_result"
    }
   ],
   "source": [
    "df_submission"
   ]
  },
  {
   "cell_type": "code",
   "execution_count": 56,
   "metadata": {},
   "outputs": [
    {
     "data": {
      "text/plain": [
       "16"
      ]
     },
     "execution_count": 56,
     "metadata": {},
     "output_type": "execute_result"
    }
   ],
   "source": [
    "model.feature_importances_.argmax()"
   ]
  },
  {
   "cell_type": "code",
   "execution_count": 57,
   "metadata": {},
   "outputs": [
    {
     "data": {
      "text/plain": [
       "'Last_achievement_%'"
      ]
     },
     "execution_count": 57,
     "metadata": {},
     "output_type": "execute_result"
    }
   ],
   "source": [
    "X_train.columns[16]"
   ]
  },
  {
   "cell_type": "code",
   "execution_count": null,
   "metadata": {},
   "outputs": [],
   "source": []
  }
 ],
 "metadata": {
  "kernelspec": {
   "display_name": "Python 3",
   "language": "python",
   "name": "python3"
  },
  "language_info": {
   "codemirror_mode": {
    "name": "ipython",
    "version": 3
   },
   "file_extension": ".py",
   "mimetype": "text/x-python",
   "name": "python",
   "nbconvert_exporter": "python",
   "pygments_lexer": "ipython3",
   "version": "3.8.3"
  }
 },
 "nbformat": 4,
 "nbformat_minor": 4
}
